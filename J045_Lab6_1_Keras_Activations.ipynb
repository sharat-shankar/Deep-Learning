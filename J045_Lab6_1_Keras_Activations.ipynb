{
  "nbformat": 4,
  "nbformat_minor": 0,
  "metadata": {
    "colab": {
      "name": "J045_Lab6_1_Keras-Activations.ipynb",
      "provenance": [],
      "include_colab_link": true
    },
    "kernelspec": {
      "name": "python3",
      "display_name": "Python 3"
    },
    "accelerator": "GPU"
  },
  "cells": [
    {
      "cell_type": "markdown",
      "metadata": {
        "id": "view-in-github",
        "colab_type": "text"
      },
      "source": [
        "<a href=\"https://colab.research.google.com/github/sharat-shankar/Deep-Learning/blob/master/J045_Lab6_1_Keras_Activations.ipynb\" target=\"_parent\"><img src=\"https://colab.research.google.com/assets/colab-badge.svg\" alt=\"Open In Colab\"/></a>"
      ]
    },
    {
      "cell_type": "markdown",
      "metadata": {
        "id": "VmQKx4diH0vV",
        "colab_type": "text"
      },
      "source": [
        "#Usage of activations\n",
        "\n",
        "Activations can either be used through an Activation layer, or through the activation argument supported by all forward layers:\n",
        "\n",
        "\n",
        "\n",
        "```\n",
        "from keras.layers import Activation, Dense\n",
        "model.add(Dense(64))\n",
        "model.add(Activation('tanh'))\n",
        "```\n",
        "\n",
        "\n",
        "\n",
        "This is equivalent to:\n",
        "\n",
        "```\n",
        "model.add(Dense(64, activation='tanh'))\n",
        "```\n",
        "\n",
        "You can also pass an element-wise TensorFlow/Theano/CNTK function as an activation:\n",
        "\n",
        "```\n",
        "from keras import backend as K\n",
        "model.add(Dense(64, activation=K.tanh))\n",
        "```"
      ]
    },
    {
      "cell_type": "markdown",
      "metadata": {
        "id": "gcMWdTDBIik-",
        "colab_type": "text"
      },
      "source": [
        "#elu\n",
        "\n",
        "keras.activations.elu(x, alpha=1.0)\n",
        "\n",
        "Exponential linear unit.\n",
        "\n",
        "##Arguments\n",
        "\n",
        "1. x: Input tensor.\n",
        "2. alpha: A scalar, slope of negative section.\n",
        "\n",
        "Returns\n",
        "\n",
        "1. The exponential linear activation: x if x > 0 and alpha * (exp(x)-1) if x < 0."
      ]
    },
    {
      "cell_type": "code",
      "metadata": {
        "id": "MFwOV5GJHUoB",
        "colab_type": "code",
        "outputId": "5934e91d-2b82-4f1c-dcb2-877128635426",
        "colab": {
          "base_uri": "https://localhost:8080/",
          "height": 1000
        }
      },
      "source": [
        "import keras\n",
        "from keras import models\n",
        "from keras.layers import Dense, Dropout\n",
        "from keras.utils import to_categorical\n",
        "from keras.datasets import mnist\n",
        "from keras.utils.vis_utils import model_to_dot\n",
        "from IPython.display import SVG\n",
        "\n",
        "NUM_ROWS = 28\n",
        "NUM_COLS = 28\n",
        "NUM_CLASSES = 10\n",
        "BATCH_SIZE = 128\n",
        "EPOCHS = 10\n",
        "\n",
        "# Load data\n",
        "(X_train, y_train), (X_test, y_test) = mnist.load_data()\n",
        "\n",
        "# Reshape data\n",
        "X_train = X_train.reshape((X_train.shape[0], NUM_ROWS * NUM_COLS))\n",
        "X_train = X_train.astype('float32') / 255\n",
        "X_test = X_test.reshape((X_test.shape[0], NUM_ROWS * NUM_COLS))\n",
        "X_test = X_test.astype('float32') / 255\n",
        "\n",
        "# Categorically encode labels\n",
        "y_train = to_categorical(y_train, NUM_CLASSES)\n",
        "y_test = to_categorical(y_test, NUM_CLASSES)\n",
        "\n",
        "\n",
        "# Build neural network\n",
        "model = models.Sequential()\n",
        "model.add(Dense(512, activation='elu', input_shape=(NUM_ROWS * NUM_COLS,)))\n",
        "model.add(Dense(256, activation='elu'))\n",
        "model.add(Dense(10, activation='softmax'))\n",
        "\n",
        "# Compile model\n",
        "model.compile(optimizer='rmsprop',\n",
        "              loss='categorical_crossentropy',\n",
        "              metrics=['accuracy'])\n",
        "\n",
        "# Train model\n",
        "model.fit(X_train, y_train,\n",
        "          batch_size=BATCH_SIZE,\n",
        "          epochs=EPOCHS,\n",
        "          verbose=1,\n",
        "          validation_data=(X_test, y_test))\n",
        "\n",
        "score = model.evaluate(X_test, y_test, verbose=0)\n",
        "print('Test loss:', score[0])\n",
        "print('Test accuracy:', score[1])"
      ],
      "execution_count": 0,
      "outputs": [
        {
          "output_type": "stream",
          "text": [
            "Using TensorFlow backend.\n"
          ],
          "name": "stderr"
        },
        {
          "output_type": "display_data",
          "data": {
            "text/html": [
              "<p style=\"color: red;\">\n",
              "The default version of TensorFlow in Colab will soon switch to TensorFlow 2.x.<br>\n",
              "We recommend you <a href=\"https://www.tensorflow.org/guide/migrate\" target=\"_blank\">upgrade</a> now \n",
              "or ensure your notebook will continue to use TensorFlow 1.x via the <code>%tensorflow_version 1.x</code> magic:\n",
              "<a href=\"https://colab.research.google.com/notebooks/tensorflow_version.ipynb\" target=\"_blank\">more info</a>.</p>\n"
            ],
            "text/plain": [
              "<IPython.core.display.HTML object>"
            ]
          },
          "metadata": {
            "tags": []
          }
        },
        {
          "output_type": "stream",
          "text": [
            "Downloading data from https://s3.amazonaws.com/img-datasets/mnist.npz\n",
            "11493376/11490434 [==============================] - 1s 0us/step\n",
            "WARNING:tensorflow:From /usr/local/lib/python3.6/dist-packages/keras/backend/tensorflow_backend.py:66: The name tf.get_default_graph is deprecated. Please use tf.compat.v1.get_default_graph instead.\n",
            "\n",
            "WARNING:tensorflow:From /usr/local/lib/python3.6/dist-packages/keras/backend/tensorflow_backend.py:541: The name tf.placeholder is deprecated. Please use tf.compat.v1.placeholder instead.\n",
            "\n",
            "WARNING:tensorflow:From /usr/local/lib/python3.6/dist-packages/keras/backend/tensorflow_backend.py:4432: The name tf.random_uniform is deprecated. Please use tf.random.uniform instead.\n",
            "\n",
            "WARNING:tensorflow:From /usr/local/lib/python3.6/dist-packages/keras/optimizers.py:793: The name tf.train.Optimizer is deprecated. Please use tf.compat.v1.train.Optimizer instead.\n",
            "\n",
            "WARNING:tensorflow:From /usr/local/lib/python3.6/dist-packages/keras/backend/tensorflow_backend.py:3576: The name tf.log is deprecated. Please use tf.math.log instead.\n",
            "\n",
            "WARNING:tensorflow:From /usr/local/lib/python3.6/dist-packages/tensorflow_core/python/ops/math_grad.py:1424: where (from tensorflow.python.ops.array_ops) is deprecated and will be removed in a future version.\n",
            "Instructions for updating:\n",
            "Use tf.where in 2.0, which has the same broadcast rule as np.where\n",
            "WARNING:tensorflow:From /usr/local/lib/python3.6/dist-packages/keras/backend/tensorflow_backend.py:1033: The name tf.assign_add is deprecated. Please use tf.compat.v1.assign_add instead.\n",
            "\n",
            "WARNING:tensorflow:From /usr/local/lib/python3.6/dist-packages/keras/backend/tensorflow_backend.py:1020: The name tf.assign is deprecated. Please use tf.compat.v1.assign instead.\n",
            "\n",
            "WARNING:tensorflow:From /usr/local/lib/python3.6/dist-packages/keras/backend/tensorflow_backend.py:3005: The name tf.Session is deprecated. Please use tf.compat.v1.Session instead.\n",
            "\n",
            "Train on 60000 samples, validate on 10000 samples\n",
            "Epoch 1/10\n",
            "WARNING:tensorflow:From /usr/local/lib/python3.6/dist-packages/keras/backend/tensorflow_backend.py:190: The name tf.get_default_session is deprecated. Please use tf.compat.v1.get_default_session instead.\n",
            "\n",
            "WARNING:tensorflow:From /usr/local/lib/python3.6/dist-packages/keras/backend/tensorflow_backend.py:197: The name tf.ConfigProto is deprecated. Please use tf.compat.v1.ConfigProto instead.\n",
            "\n",
            "WARNING:tensorflow:From /usr/local/lib/python3.6/dist-packages/keras/backend/tensorflow_backend.py:207: The name tf.global_variables is deprecated. Please use tf.compat.v1.global_variables instead.\n",
            "\n",
            "WARNING:tensorflow:From /usr/local/lib/python3.6/dist-packages/keras/backend/tensorflow_backend.py:216: The name tf.is_variable_initialized is deprecated. Please use tf.compat.v1.is_variable_initialized instead.\n",
            "\n",
            "WARNING:tensorflow:From /usr/local/lib/python3.6/dist-packages/keras/backend/tensorflow_backend.py:223: The name tf.variables_initializer is deprecated. Please use tf.compat.v1.variables_initializer instead.\n",
            "\n",
            "60000/60000 [==============================] - 11s 182us/step - loss: 0.2845 - acc: 0.9130 - val_loss: 0.1422 - val_acc: 0.9572\n",
            "Epoch 2/10\n",
            "60000/60000 [==============================] - 2s 28us/step - loss: 0.1195 - acc: 0.9632 - val_loss: 0.1006 - val_acc: 0.9678\n",
            "Epoch 3/10\n",
            "60000/60000 [==============================] - 2s 28us/step - loss: 0.0818 - acc: 0.9737 - val_loss: 0.0895 - val_acc: 0.9742\n",
            "Epoch 4/10\n",
            "60000/60000 [==============================] - 2s 28us/step - loss: 0.0616 - acc: 0.9806 - val_loss: 0.0738 - val_acc: 0.9770\n",
            "Epoch 5/10\n",
            "60000/60000 [==============================] - 2s 27us/step - loss: 0.0483 - acc: 0.9846 - val_loss: 0.0802 - val_acc: 0.9765\n",
            "Epoch 6/10\n",
            "60000/60000 [==============================] - 2s 27us/step - loss: 0.0408 - acc: 0.9872 - val_loss: 0.0754 - val_acc: 0.9774\n",
            "Epoch 7/10\n",
            "60000/60000 [==============================] - 2s 28us/step - loss: 0.0325 - acc: 0.9891 - val_loss: 0.0977 - val_acc: 0.9737\n",
            "Epoch 8/10\n",
            "60000/60000 [==============================] - 2s 27us/step - loss: 0.0267 - acc: 0.9911 - val_loss: 0.0867 - val_acc: 0.9778\n",
            "Epoch 9/10\n",
            "60000/60000 [==============================] - 2s 29us/step - loss: 0.0240 - acc: 0.9922 - val_loss: 0.0963 - val_acc: 0.9747\n",
            "Epoch 10/10\n",
            "60000/60000 [==============================] - 2s 30us/step - loss: 0.0188 - acc: 0.9940 - val_loss: 0.1246 - val_acc: 0.9752\n",
            "Test loss: 0.1245664699157137\n",
            "Test accuracy: 0.9752\n"
          ],
          "name": "stdout"
        }
      ]
    },
    {
      "cell_type": "markdown",
      "metadata": {
        "id": "gUN3hrzoKAmX",
        "colab_type": "text"
      },
      "source": [
        "#softmax\n",
        "\n",
        "keras.activations.softmax(x, axis=-1)\n",
        "\n",
        "##Softmax activation function.\n",
        "\n",
        "##Arguments\n",
        "\n",
        "1. x: Input tensor.\n",
        "2. axis: Integer, axis along which the softmax normalization is applied.\n",
        "\n",
        "##Returns\n",
        "\n",
        "Tensor, output of softmax transformation.\n",
        "\n",
        "##Raises\n",
        "\n",
        "ValueError: In case dim(x) == 1."
      ]
    },
    {
      "cell_type": "code",
      "metadata": {
        "id": "XOQfshRuKK2k",
        "colab_type": "code",
        "outputId": "7bbd62f4-ba24-40ec-b768-eb5e15e0ffb5",
        "colab": {
          "base_uri": "https://localhost:8080/",
          "height": 426
        }
      },
      "source": [
        "# Build neural network\n",
        "model = models.Sequential()\n",
        "model.add(Dense(512, activation='softmax', input_shape=(NUM_ROWS * NUM_COLS,)))\n",
        "model.add(Dense(256, activation='softmax'))\n",
        "model.add(Dense(10, activation='softmax'))\n",
        "\n",
        "# Compile model\n",
        "model.compile(optimizer='rmsprop',\n",
        "              loss='categorical_crossentropy',\n",
        "              metrics=['accuracy'])\n",
        "\n",
        "# Train model\n",
        "model.fit(X_train, y_train,\n",
        "          batch_size=BATCH_SIZE,\n",
        "          epochs=EPOCHS,\n",
        "          verbose=1,\n",
        "          validation_data=(X_test, y_test))\n",
        "\n",
        "score = model.evaluate(X_test, y_test, verbose=0)\n",
        "print('Test loss:', score[0])\n",
        "print('Test accuracy:', score[1])"
      ],
      "execution_count": 0,
      "outputs": [
        {
          "output_type": "stream",
          "text": [
            "Train on 60000 samples, validate on 10000 samples\n",
            "Epoch 1/10\n",
            "60000/60000 [==============================] - 2s 33us/step - loss: 2.2690 - acc: 0.1997 - val_loss: 2.1953 - val_acc: 0.6540\n",
            "Epoch 2/10\n",
            "60000/60000 [==============================] - 2s 28us/step - loss: 2.0402 - acc: 0.7452 - val_loss: 1.8487 - val_acc: 0.7568\n",
            "Epoch 3/10\n",
            "60000/60000 [==============================] - 2s 29us/step - loss: 1.6343 - acc: 0.7565 - val_loss: 1.4110 - val_acc: 0.7603\n",
            "Epoch 4/10\n",
            "60000/60000 [==============================] - 2s 29us/step - loss: 1.2140 - acc: 0.7648 - val_loss: 1.0252 - val_acc: 0.7615\n",
            "Epoch 5/10\n",
            "60000/60000 [==============================] - 2s 29us/step - loss: 0.8894 - acc: 0.7688 - val_loss: 0.7669 - val_acc: 0.7708\n",
            "Epoch 6/10\n",
            "60000/60000 [==============================] - 2s 30us/step - loss: 0.6931 - acc: 0.7748 - val_loss: 0.6291 - val_acc: 0.7801\n",
            "Epoch 7/10\n",
            "60000/60000 [==============================] - 2s 29us/step - loss: 0.5917 - acc: 0.7832 - val_loss: 0.5590 - val_acc: 0.7844\n",
            "Epoch 8/10\n",
            "60000/60000 [==============================] - 2s 28us/step - loss: 0.5422 - acc: 0.7895 - val_loss: 0.5288 - val_acc: 0.7863\n",
            "Epoch 9/10\n",
            "60000/60000 [==============================] - 2s 28us/step - loss: 0.5169 - acc: 0.7961 - val_loss: 0.5150 - val_acc: 0.7905\n",
            "Epoch 10/10\n",
            "60000/60000 [==============================] - 2s 28us/step - loss: 0.4994 - acc: 0.8059 - val_loss: 0.5009 - val_acc: 0.8037\n",
            "Test loss: 0.5008919867038727\n",
            "Test accuracy: 0.8037\n"
          ],
          "name": "stdout"
        }
      ]
    },
    {
      "cell_type": "markdown",
      "metadata": {
        "id": "hM19cjk8KTL7",
        "colab_type": "text"
      },
      "source": [
        "#selu\n",
        "\n",
        "keras.activations.selu(x)\n",
        "\n",
        "Scaled Exponential Linear Unit (SELU).\n",
        "\n",
        "SELU is equal to: scale * elu(x, alpha), where alpha and scale are predefined constants. The values of alpha and scale are chosen so that the mean and variance of the inputs are preserved between two consecutive layers as long as the weights are initialized correctly (see lecun_normal initialization) and the number of inputs is \"large enough\" (see references for more information).\n",
        "\n",
        "##Arguments\n",
        "\n",
        "1. x: A tensor or variable to compute the activation function for.\n",
        "\n",
        "##Returns\n",
        "\n",
        "The scaled exponential unit activation: scale * elu(x, alpha).\n",
        "\n",
        "##Note\n",
        "\n",
        "1. To be used together with the initialization \"lecun_normal\".\n",
        "2. To be used together with the dropout variant \"AlphaDropout\"."
      ]
    },
    {
      "cell_type": "code",
      "metadata": {
        "id": "tqueXLpaKddp",
        "colab_type": "code",
        "outputId": "7127461f-a214-4b6b-b14d-f508de9af1c1",
        "colab": {
          "base_uri": "https://localhost:8080/",
          "height": 426
        }
      },
      "source": [
        "# Build neural network\n",
        "model = models.Sequential()\n",
        "model.add(Dense(512, activation='selu', input_shape=(NUM_ROWS * NUM_COLS,)))\n",
        "model.add(Dense(256, activation='selu'))\n",
        "model.add(Dense(10, activation='softmax'))\n",
        "\n",
        "# Compile model\n",
        "model.compile(optimizer='rmsprop',\n",
        "              loss='categorical_crossentropy',\n",
        "              metrics=['accuracy'])\n",
        "\n",
        "# Train model\n",
        "model.fit(X_train, y_train,\n",
        "          batch_size=BATCH_SIZE,\n",
        "          epochs=EPOCHS,\n",
        "          verbose=1,\n",
        "          validation_data=(X_test, y_test))\n",
        "\n",
        "score = model.evaluate(X_test, y_test, verbose=0)\n",
        "print('Test loss:', score[0])\n",
        "print('Test accuracy:', score[1])"
      ],
      "execution_count": 0,
      "outputs": [
        {
          "output_type": "stream",
          "text": [
            "Train on 60000 samples, validate on 10000 samples\n",
            "Epoch 1/10\n",
            "60000/60000 [==============================] - 2s 33us/step - loss: 0.3316 - acc: 0.9017 - val_loss: 0.1438 - val_acc: 0.9563\n",
            "Epoch 2/10\n",
            "60000/60000 [==============================] - 2s 29us/step - loss: 0.1372 - acc: 0.9586 - val_loss: 0.1240 - val_acc: 0.9611\n",
            "Epoch 3/10\n",
            "60000/60000 [==============================] - 2s 30us/step - loss: 0.0929 - acc: 0.9711 - val_loss: 0.1410 - val_acc: 0.9580\n",
            "Epoch 4/10\n",
            "60000/60000 [==============================] - 2s 30us/step - loss: 0.0725 - acc: 0.9768 - val_loss: 0.1145 - val_acc: 0.9685\n",
            "Epoch 5/10\n",
            "60000/60000 [==============================] - 2s 30us/step - loss: 0.0603 - acc: 0.9808 - val_loss: 0.0814 - val_acc: 0.9763\n",
            "Epoch 6/10\n",
            "60000/60000 [==============================] - 2s 30us/step - loss: 0.0504 - acc: 0.9843 - val_loss: 0.1078 - val_acc: 0.9713\n",
            "Epoch 7/10\n",
            "60000/60000 [==============================] - 2s 30us/step - loss: 0.0417 - acc: 0.9866 - val_loss: 0.0738 - val_acc: 0.9781\n",
            "Epoch 8/10\n",
            "60000/60000 [==============================] - 2s 30us/step - loss: 0.0362 - acc: 0.9885 - val_loss: 0.1044 - val_acc: 0.9743\n",
            "Epoch 9/10\n",
            "60000/60000 [==============================] - 2s 30us/step - loss: 0.0318 - acc: 0.9899 - val_loss: 0.0848 - val_acc: 0.9786\n",
            "Epoch 10/10\n",
            "60000/60000 [==============================] - 2s 29us/step - loss: 0.0274 - acc: 0.9912 - val_loss: 0.0952 - val_acc: 0.9780\n",
            "Test loss: 0.09521915902557321\n",
            "Test accuracy: 0.978\n"
          ],
          "name": "stdout"
        }
      ]
    },
    {
      "cell_type": "markdown",
      "metadata": {
        "id": "8jh93vQKKjws",
        "colab_type": "text"
      },
      "source": [
        "#softplus\n",
        "\n",
        "keras.activations.softplus(x)\n",
        "\n",
        "Softplus activation function.\n",
        "\n",
        "##Arguments\n",
        "\n",
        "1. x: Input tensor.\n",
        "\n",
        "##Returns\n",
        "\n",
        "1. The softplus activation: log(exp(x) + 1)."
      ]
    },
    {
      "cell_type": "code",
      "metadata": {
        "id": "msVEMJUtKwTC",
        "colab_type": "code",
        "outputId": "830cd869-2814-431e-a3e2-630a9bc90c2a",
        "colab": {
          "base_uri": "https://localhost:8080/",
          "height": 426
        }
      },
      "source": [
        "# Build neural network\n",
        "model = models.Sequential()\n",
        "model.add(Dense(512, activation='softplus', input_shape=(NUM_ROWS * NUM_COLS,)))\n",
        "model.add(Dense(256, activation='softplus'))\n",
        "model.add(Dense(10, activation='softmax'))\n",
        "\n",
        "# Compile model\n",
        "model.compile(optimizer='rmsprop',\n",
        "              loss='categorical_crossentropy',\n",
        "              metrics=['accuracy'])\n",
        "\n",
        "# Train model\n",
        "model.fit(X_train, y_train,\n",
        "          batch_size=BATCH_SIZE,\n",
        "          epochs=EPOCHS,\n",
        "          verbose=1,\n",
        "          validation_data=(X_test, y_test))\n",
        "\n",
        "score = model.evaluate(X_test, y_test, verbose=0)\n",
        "print('Test loss:', score[0])\n",
        "print('Test accuracy:', score[1])"
      ],
      "execution_count": 0,
      "outputs": [
        {
          "output_type": "stream",
          "text": [
            "Train on 60000 samples, validate on 10000 samples\n",
            "Epoch 1/10\n",
            "60000/60000 [==============================] - 2s 33us/step - loss: 0.4495 - acc: 0.8618 - val_loss: 0.1965 - val_acc: 0.9390\n",
            "Epoch 2/10\n",
            "60000/60000 [==============================] - 2s 29us/step - loss: 0.1691 - acc: 0.9484 - val_loss: 0.1786 - val_acc: 0.9462\n",
            "Epoch 3/10\n",
            "60000/60000 [==============================] - 2s 28us/step - loss: 0.1121 - acc: 0.9656 - val_loss: 0.1185 - val_acc: 0.9625\n",
            "Epoch 4/10\n",
            "60000/60000 [==============================] - 2s 29us/step - loss: 0.0831 - acc: 0.9747 - val_loss: 0.0841 - val_acc: 0.9751\n",
            "Epoch 5/10\n",
            "60000/60000 [==============================] - 2s 27us/step - loss: 0.0649 - acc: 0.9801 - val_loss: 0.0927 - val_acc: 0.9726\n",
            "Epoch 6/10\n",
            "60000/60000 [==============================] - 2s 28us/step - loss: 0.0525 - acc: 0.9833 - val_loss: 0.0787 - val_acc: 0.9761\n",
            "Epoch 7/10\n",
            "60000/60000 [==============================] - 2s 28us/step - loss: 0.0437 - acc: 0.9857 - val_loss: 0.0750 - val_acc: 0.9796\n",
            "Epoch 8/10\n",
            "60000/60000 [==============================] - 2s 29us/step - loss: 0.0360 - acc: 0.9886 - val_loss: 0.0761 - val_acc: 0.9773\n",
            "Epoch 9/10\n",
            "60000/60000 [==============================] - 2s 29us/step - loss: 0.0304 - acc: 0.9909 - val_loss: 0.0892 - val_acc: 0.9759\n",
            "Epoch 10/10\n",
            "60000/60000 [==============================] - 2s 28us/step - loss: 0.0254 - acc: 0.9921 - val_loss: 0.0838 - val_acc: 0.9794\n",
            "Test loss: 0.08377079832876624\n",
            "Test accuracy: 0.9794\n"
          ],
          "name": "stdout"
        }
      ]
    },
    {
      "cell_type": "markdown",
      "metadata": {
        "id": "5us_flAJK4lP",
        "colab_type": "text"
      },
      "source": [
        "#softsign\n",
        "\n",
        "keras.activations.softsign(x)\n",
        "\n",
        "##Softsign activation function.\n",
        "\n",
        "##Arguments\n",
        "\n",
        "1. x: Input tensor.\n",
        "\n",
        "##Returns\n",
        "\n",
        "1. The softsign activation: x / (abs(x) + 1)."
      ]
    },
    {
      "cell_type": "code",
      "metadata": {
        "id": "YxsE4bDzK_Wo",
        "colab_type": "code",
        "outputId": "1dba5e35-dbf3-4279-92c9-5f73b26b32a8",
        "colab": {
          "base_uri": "https://localhost:8080/",
          "height": 426
        }
      },
      "source": [
        "# Build neural network\n",
        "model = models.Sequential()\n",
        "model.add(Dense(512, activation='softsign', input_shape=(NUM_ROWS * NUM_COLS,)))\n",
        "model.add(Dense(256, activation='softsign'))\n",
        "model.add(Dense(10, activation='softmax'))\n",
        "\n",
        "# Compile model\n",
        "model.compile(optimizer='rmsprop',\n",
        "              loss='categorical_crossentropy',\n",
        "              metrics=['accuracy'])\n",
        "\n",
        "# Train model\n",
        "model.fit(X_train, y_train,\n",
        "          batch_size=BATCH_SIZE,\n",
        "          epochs=EPOCHS,\n",
        "          verbose=1,\n",
        "          validation_data=(X_test, y_test))\n",
        "\n",
        "score = model.evaluate(X_test, y_test, verbose=0)\n",
        "print('Test loss:', score[0])\n",
        "print('Test accuracy:', score[1])"
      ],
      "execution_count": 0,
      "outputs": [
        {
          "output_type": "stream",
          "text": [
            "Train on 60000 samples, validate on 10000 samples\n",
            "Epoch 1/10\n",
            "60000/60000 [==============================] - 2s 33us/step - loss: 0.2923 - acc: 0.9140 - val_loss: 0.1720 - val_acc: 0.9466\n",
            "Epoch 2/10\n",
            "60000/60000 [==============================] - 2s 28us/step - loss: 0.1462 - acc: 0.9566 - val_loss: 0.1146 - val_acc: 0.9658\n",
            "Epoch 3/10\n",
            "60000/60000 [==============================] - 2s 29us/step - loss: 0.1011 - acc: 0.9691 - val_loss: 0.0968 - val_acc: 0.9704\n",
            "Epoch 4/10\n",
            "60000/60000 [==============================] - 2s 30us/step - loss: 0.0763 - acc: 0.9768 - val_loss: 0.0907 - val_acc: 0.9704\n",
            "Epoch 5/10\n",
            "60000/60000 [==============================] - 2s 27us/step - loss: 0.0585 - acc: 0.9825 - val_loss: 0.0830 - val_acc: 0.9737\n",
            "Epoch 6/10\n",
            "60000/60000 [==============================] - 2s 28us/step - loss: 0.0452 - acc: 0.9860 - val_loss: 0.0685 - val_acc: 0.9780\n",
            "Epoch 7/10\n",
            "60000/60000 [==============================] - 2s 28us/step - loss: 0.0358 - acc: 0.9888 - val_loss: 0.0749 - val_acc: 0.9764\n",
            "Epoch 8/10\n",
            "60000/60000 [==============================] - 2s 28us/step - loss: 0.0292 - acc: 0.9912 - val_loss: 0.0713 - val_acc: 0.9768\n",
            "Epoch 9/10\n",
            "60000/60000 [==============================] - 2s 29us/step - loss: 0.0229 - acc: 0.9930 - val_loss: 0.0694 - val_acc: 0.9791\n",
            "Epoch 10/10\n",
            "60000/60000 [==============================] - 2s 29us/step - loss: 0.0180 - acc: 0.9948 - val_loss: 0.0732 - val_acc: 0.9798\n",
            "Test loss: 0.0732330326073221\n",
            "Test accuracy: 0.9798\n"
          ],
          "name": "stdout"
        }
      ]
    },
    {
      "cell_type": "markdown",
      "metadata": {
        "id": "q1frWDGbLIPD",
        "colab_type": "text"
      },
      "source": [
        "#relu\n",
        "\n",
        "keras.activations.relu(x, alpha=0.0, max_value=None, threshold=0.0)\n",
        "\n",
        "##Rectified Linear Unit.\n",
        "\n",
        "With default values, it returns element-wise max(x, 0).\n",
        "\n",
        "Otherwise, it follows: f(x) = max_value for x >= max_value, f(x) = x for threshold <= x < max_value, f(x) = alpha * (x - threshold) otherwise.\n",
        "\n",
        "##Arguments\n",
        "\n",
        "1. x: Input tensor.\n",
        "2. alpha: float. Slope of the negative part. Defaults to zero.\n",
        "3. max_value: float. Saturation threshold.\n",
        "4. threshold: float. Threshold value for thresholded activation.\n",
        "\n",
        "##Returns\n",
        "\n",
        "A tensor."
      ]
    },
    {
      "cell_type": "code",
      "metadata": {
        "id": "W-yB_H-6LEmI",
        "colab_type": "code",
        "outputId": "a38d5dff-32a4-4ca3-8c59-a6f16901003c",
        "colab": {
          "base_uri": "https://localhost:8080/",
          "height": 426
        }
      },
      "source": [
        "# Build neural network\n",
        "model = models.Sequential()\n",
        "model.add(Dense(512, activation='relu', input_shape=(NUM_ROWS * NUM_COLS,)))\n",
        "model.add(Dense(256, activation='relu'))\n",
        "model.add(Dense(10, activation='softmax'))\n",
        "\n",
        "# Compile model\n",
        "model.compile(optimizer='rmsprop',\n",
        "              loss='categorical_crossentropy',\n",
        "              metrics=['accuracy'])\n",
        "\n",
        "# Train model\n",
        "model.fit(X_train, y_train,\n",
        "          batch_size=BATCH_SIZE,\n",
        "          epochs=EPOCHS,\n",
        "          verbose=1,\n",
        "          validation_data=(X_test, y_test))\n",
        "\n",
        "score = model.evaluate(X_test, y_test, verbose=0)\n",
        "print('Test loss:', score[0])\n",
        "print('Test accuracy:', score[1])"
      ],
      "execution_count": 0,
      "outputs": [
        {
          "output_type": "stream",
          "text": [
            "Train on 60000 samples, validate on 10000 samples\n",
            "Epoch 1/10\n",
            "60000/60000 [==============================] - 2s 33us/step - loss: 0.2294 - acc: 0.9298 - val_loss: 0.1178 - val_acc: 0.9626\n",
            "Epoch 2/10\n",
            "60000/60000 [==============================] - 2s 28us/step - loss: 0.0847 - acc: 0.9734 - val_loss: 0.0948 - val_acc: 0.9712\n",
            "Epoch 3/10\n",
            "60000/60000 [==============================] - 2s 28us/step - loss: 0.0561 - acc: 0.9822 - val_loss: 0.0958 - val_acc: 0.9710\n",
            "Epoch 4/10\n",
            "60000/60000 [==============================] - 2s 28us/step - loss: 0.0389 - acc: 0.9879 - val_loss: 0.0695 - val_acc: 0.9805\n",
            "Epoch 5/10\n",
            "60000/60000 [==============================] - 2s 27us/step - loss: 0.0310 - acc: 0.9905 - val_loss: 0.0806 - val_acc: 0.9801\n",
            "Epoch 6/10\n",
            "60000/60000 [==============================] - 2s 28us/step - loss: 0.0209 - acc: 0.9933 - val_loss: 0.0809 - val_acc: 0.9801\n",
            "Epoch 7/10\n",
            "60000/60000 [==============================] - 2s 28us/step - loss: 0.0186 - acc: 0.9947 - val_loss: 0.0847 - val_acc: 0.9809\n",
            "Epoch 8/10\n",
            "60000/60000 [==============================] - 2s 28us/step - loss: 0.0151 - acc: 0.9953 - val_loss: 0.0875 - val_acc: 0.9828\n",
            "Epoch 9/10\n",
            "60000/60000 [==============================] - 2s 28us/step - loss: 0.0131 - acc: 0.9958 - val_loss: 0.0813 - val_acc: 0.9820\n",
            "Epoch 10/10\n",
            "60000/60000 [==============================] - 2s 28us/step - loss: 0.0100 - acc: 0.9969 - val_loss: 0.1010 - val_acc: 0.9820\n",
            "Test loss: 0.10096029277440643\n",
            "Test accuracy: 0.982\n"
          ],
          "name": "stdout"
        }
      ]
    },
    {
      "cell_type": "markdown",
      "metadata": {
        "id": "qb6436cKLXyP",
        "colab_type": "text"
      },
      "source": [
        "#tanh\n",
        "\n",
        "keras.activations.tanh(x)\n",
        "\n",
        "##Hyperbolic tangent activation function.\n",
        "\n",
        "##Arguments\n",
        "\n",
        "1. x: Input tensor.\n",
        "\n",
        "##Returns\n",
        "\n",
        "1. The hyperbolic activation: tanh(x) = (exp(x) - exp(-x)) / (exp(x) + exp(-x))"
      ]
    },
    {
      "cell_type": "code",
      "metadata": {
        "id": "2l_JVgdfLd_E",
        "colab_type": "code",
        "outputId": "ac7e84bf-2798-4891-f2c3-ea7dd725df15",
        "colab": {
          "base_uri": "https://localhost:8080/",
          "height": 426
        }
      },
      "source": [
        "# Build neural network\n",
        "model = models.Sequential()\n",
        "model.add(Dense(512, activation='tanh', input_shape=(NUM_ROWS * NUM_COLS,)))\n",
        "model.add(Dense(256, activation='tanh'))\n",
        "model.add(Dense(10, activation='softmax'))\n",
        "\n",
        "# Compile model\n",
        "model.compile(optimizer='rmsprop',\n",
        "              loss='categorical_crossentropy',\n",
        "              metrics=['accuracy'])\n",
        "\n",
        "# Train model\n",
        "model.fit(X_train, y_train,\n",
        "          batch_size=BATCH_SIZE,\n",
        "          epochs=EPOCHS,\n",
        "          verbose=1,\n",
        "          validation_data=(X_test, y_test))\n",
        "\n",
        "score = model.evaluate(X_test, y_test, verbose=0)\n",
        "print('Test loss:', score[0])\n",
        "print('Test accuracy:', score[1])"
      ],
      "execution_count": 0,
      "outputs": [
        {
          "output_type": "stream",
          "text": [
            "Train on 60000 samples, validate on 10000 samples\n",
            "Epoch 1/10\n",
            "60000/60000 [==============================] - 2s 34us/step - loss: 0.2935 - acc: 0.9117 - val_loss: 0.1620 - val_acc: 0.9504\n",
            "Epoch 2/10\n",
            "60000/60000 [==============================] - 2s 28us/step - loss: 0.1246 - acc: 0.9622 - val_loss: 0.1077 - val_acc: 0.9669\n",
            "Epoch 3/10\n",
            "60000/60000 [==============================] - 2s 28us/step - loss: 0.0814 - acc: 0.9755 - val_loss: 0.0870 - val_acc: 0.9732\n",
            "Epoch 4/10\n",
            "60000/60000 [==============================] - 2s 27us/step - loss: 0.0585 - acc: 0.9824 - val_loss: 0.0700 - val_acc: 0.9783\n",
            "Epoch 5/10\n",
            "60000/60000 [==============================] - 2s 30us/step - loss: 0.0434 - acc: 0.9869 - val_loss: 0.0747 - val_acc: 0.9756\n",
            "Epoch 6/10\n",
            "60000/60000 [==============================] - 2s 28us/step - loss: 0.0320 - acc: 0.9901 - val_loss: 0.0834 - val_acc: 0.9721\n",
            "Epoch 7/10\n",
            "60000/60000 [==============================] - 2s 28us/step - loss: 0.0236 - acc: 0.9930 - val_loss: 0.0681 - val_acc: 0.9786\n",
            "Epoch 8/10\n",
            "60000/60000 [==============================] - 2s 28us/step - loss: 0.0169 - acc: 0.9951 - val_loss: 0.0699 - val_acc: 0.9791\n",
            "Epoch 9/10\n",
            "60000/60000 [==============================] - 2s 28us/step - loss: 0.0127 - acc: 0.9965 - val_loss: 0.0643 - val_acc: 0.9808\n",
            "Epoch 10/10\n",
            "60000/60000 [==============================] - 2s 28us/step - loss: 0.0086 - acc: 0.9975 - val_loss: 0.0694 - val_acc: 0.9797\n",
            "Test loss: 0.06941168241378036\n",
            "Test accuracy: 0.9797\n"
          ],
          "name": "stdout"
        }
      ]
    },
    {
      "cell_type": "markdown",
      "metadata": {
        "id": "JwPdvFC3LmME",
        "colab_type": "text"
      },
      "source": [
        "#sigmoid\n",
        "\n",
        "keras.activations.sigmoid(x)\n",
        "\n",
        "##Sigmoid activation function.\n",
        "\n",
        "##Arguments\n",
        "\n",
        "1. x: Input tensor.\n",
        "\n",
        "##Returns\n",
        "\n",
        "1. The sigmoid activation: 1 / (1 + exp(-x))."
      ]
    },
    {
      "cell_type": "code",
      "metadata": {
        "id": "chkhKBK4LtS9",
        "colab_type": "code",
        "outputId": "ee601401-5423-4170-b270-08e189723a33",
        "colab": {
          "base_uri": "https://localhost:8080/",
          "height": 426
        }
      },
      "source": [
        "# Build neural network\n",
        "model = models.Sequential()\n",
        "model.add(Dense(512, activation='sigmoid', input_shape=(NUM_ROWS * NUM_COLS,)))\n",
        "model.add(Dense(256, activation='sigmoid'))\n",
        "model.add(Dense(10, activation='softmax'))\n",
        "\n",
        "# Compile model\n",
        "model.compile(optimizer='rmsprop',\n",
        "              loss='categorical_crossentropy',\n",
        "              metrics=['accuracy'])\n",
        "\n",
        "# Train model\n",
        "model.fit(X_train, y_train,\n",
        "          batch_size=BATCH_SIZE,\n",
        "          epochs=EPOCHS,\n",
        "          verbose=1,\n",
        "          validation_data=(X_test, y_test))\n",
        "\n",
        "score = model.evaluate(X_test, y_test, verbose=0)\n",
        "print('Test loss:', score[0])\n",
        "print('Test accuracy:', score[1])"
      ],
      "execution_count": 0,
      "outputs": [
        {
          "output_type": "stream",
          "text": [
            "Train on 60000 samples, validate on 10000 samples\n",
            "Epoch 1/10\n",
            "60000/60000 [==============================] - 2s 35us/step - loss: 0.4911 - acc: 0.8593 - val_loss: 0.2555 - val_acc: 0.9234\n",
            "Epoch 2/10\n",
            "60000/60000 [==============================] - 2s 29us/step - loss: 0.2170 - acc: 0.9346 - val_loss: 0.1818 - val_acc: 0.9438\n",
            "Epoch 3/10\n",
            "60000/60000 [==============================] - 2s 27us/step - loss: 0.1572 - acc: 0.9522 - val_loss: 0.1403 - val_acc: 0.9576\n",
            "Epoch 4/10\n",
            "60000/60000 [==============================] - 2s 27us/step - loss: 0.1195 - acc: 0.9637 - val_loss: 0.1179 - val_acc: 0.9642\n",
            "Epoch 5/10\n",
            "60000/60000 [==============================] - 2s 27us/step - loss: 0.0943 - acc: 0.9711 - val_loss: 0.1044 - val_acc: 0.9682\n",
            "Epoch 6/10\n",
            "60000/60000 [==============================] - 2s 29us/step - loss: 0.0764 - acc: 0.9766 - val_loss: 0.0974 - val_acc: 0.9682\n",
            "Epoch 7/10\n",
            "60000/60000 [==============================] - 2s 28us/step - loss: 0.0625 - acc: 0.9808 - val_loss: 0.0828 - val_acc: 0.9739\n",
            "Epoch 8/10\n",
            "60000/60000 [==============================] - 2s 31us/step - loss: 0.0523 - acc: 0.9837 - val_loss: 0.0702 - val_acc: 0.9780\n",
            "Epoch 9/10\n",
            "60000/60000 [==============================] - 2s 27us/step - loss: 0.0440 - acc: 0.9868 - val_loss: 0.0792 - val_acc: 0.9750\n",
            "Epoch 10/10\n",
            "60000/60000 [==============================] - 2s 28us/step - loss: 0.0365 - acc: 0.9889 - val_loss: 0.0667 - val_acc: 0.9788\n",
            "Test loss: 0.0667342496815836\n",
            "Test accuracy: 0.9788\n"
          ],
          "name": "stdout"
        }
      ]
    },
    {
      "cell_type": "markdown",
      "metadata": {
        "id": "FDSa6h2iL016",
        "colab_type": "text"
      },
      "source": [
        "#hard_sigmoid\n",
        "\n",
        "keras.activations.hard_sigmoid(x)\n",
        "\n",
        "##Hard sigmoid activation function.\n",
        "\n",
        "Faster to compute than sigmoid activation.\n",
        "\n",
        "##Arguments\n",
        "\n",
        "1. x: Input tensor.\n",
        "\n",
        "##Returns\n",
        "\n",
        "1. Hard sigmoid activation:\n",
        "\n",
        "```\n",
        "0 if x < -2.5\n",
        "1 if x > 2.5\n",
        "0.2 * x + 0.5 if -2.5 <= x <= 2.5.\n",
        "```"
      ]
    },
    {
      "cell_type": "code",
      "metadata": {
        "id": "VPIE0vA2MIY0",
        "colab_type": "code",
        "outputId": "7c066d59-a499-4b2d-b0d2-204866cdcffb",
        "colab": {
          "base_uri": "https://localhost:8080/",
          "height": 426
        }
      },
      "source": [
        "# Build neural network\n",
        "model = models.Sequential()\n",
        "model.add(Dense(512, activation='hard_sigmoid', input_shape=(NUM_ROWS * NUM_COLS,)))\n",
        "model.add(Dense(256, activation='hard_sigmoid'))\n",
        "model.add(Dense(10, activation='softmax'))\n",
        "\n",
        "# Compile model\n",
        "model.compile(optimizer='rmsprop',\n",
        "              loss='categorical_crossentropy',\n",
        "              metrics=['accuracy'])\n",
        "\n",
        "# Train model\n",
        "model.fit(X_train, y_train,\n",
        "          batch_size=BATCH_SIZE,\n",
        "          epochs=EPOCHS,\n",
        "          verbose=1,\n",
        "          validation_data=(X_test, y_test))\n",
        "\n",
        "score = model.evaluate(X_test, y_test, verbose=0)\n",
        "print('Test loss:', score[0])\n",
        "print('Test accuracy:', score[1])"
      ],
      "execution_count": 0,
      "outputs": [
        {
          "output_type": "stream",
          "text": [
            "Train on 60000 samples, validate on 10000 samples\n",
            "Epoch 1/10\n",
            "60000/60000 [==============================] - 2s 37us/step - loss: 0.4968 - acc: 0.8545 - val_loss: 0.2394 - val_acc: 0.9278\n",
            "Epoch 2/10\n",
            "60000/60000 [==============================] - 2s 29us/step - loss: 0.2096 - acc: 0.9372 - val_loss: 0.1770 - val_acc: 0.9477\n",
            "Epoch 3/10\n",
            "60000/60000 [==============================] - 2s 32us/step - loss: 0.1478 - acc: 0.9564 - val_loss: 0.1286 - val_acc: 0.9613\n",
            "Epoch 4/10\n",
            "60000/60000 [==============================] - 2s 29us/step - loss: 0.1105 - acc: 0.9671 - val_loss: 0.1092 - val_acc: 0.9666\n",
            "Epoch 5/10\n",
            "60000/60000 [==============================] - 2s 28us/step - loss: 0.0851 - acc: 0.9742 - val_loss: 0.0976 - val_acc: 0.9708\n",
            "Epoch 6/10\n",
            "60000/60000 [==============================] - 2s 29us/step - loss: 0.0681 - acc: 0.9790 - val_loss: 0.0885 - val_acc: 0.9725\n",
            "Epoch 7/10\n",
            "60000/60000 [==============================] - 2s 29us/step - loss: 0.0557 - acc: 0.9834 - val_loss: 0.0784 - val_acc: 0.9750\n",
            "Epoch 8/10\n",
            "60000/60000 [==============================] - 2s 29us/step - loss: 0.0452 - acc: 0.9863 - val_loss: 0.0797 - val_acc: 0.9752\n",
            "Epoch 9/10\n",
            "60000/60000 [==============================] - 2s 29us/step - loss: 0.0371 - acc: 0.9886 - val_loss: 0.0737 - val_acc: 0.9773\n",
            "Epoch 10/10\n",
            "60000/60000 [==============================] - 2s 29us/step - loss: 0.0302 - acc: 0.9907 - val_loss: 0.0686 - val_acc: 0.9783\n",
            "Test loss: 0.06862545008037704\n",
            "Test accuracy: 0.9783\n"
          ],
          "name": "stdout"
        }
      ]
    },
    {
      "cell_type": "markdown",
      "metadata": {
        "id": "nkEibscrMTJ7",
        "colab_type": "text"
      },
      "source": [
        "#exponential\n",
        "\n",
        "keras.activations.exponential(x)\n",
        "\n",
        "Exponential (base e) activation function.\n",
        "\n",
        "##Arguments\n",
        "\n",
        "1. x: Input tensor.\n",
        "\n",
        "##Returns\n",
        "\n",
        "1. Exponential activation: exp(x)."
      ]
    },
    {
      "cell_type": "code",
      "metadata": {
        "id": "Z03_Vua1MY82",
        "colab_type": "code",
        "outputId": "a8ecf616-e07c-489d-bdf5-0ec1e945633d",
        "colab": {
          "base_uri": "https://localhost:8080/",
          "height": 426
        }
      },
      "source": [
        "# Build neural network\n",
        "model = models.Sequential()\n",
        "model.add(Dense(512, activation='exponential', input_shape=(NUM_ROWS * NUM_COLS,)))\n",
        "model.add(Dense(256, activation='exponential'))\n",
        "model.add(Dense(10, activation='softmax'))\n",
        "\n",
        "# Compile model\n",
        "model.compile(optimizer='rmsprop',\n",
        "              loss='categorical_crossentropy',\n",
        "              metrics=['accuracy'])\n",
        "\n",
        "# Train model\n",
        "model.fit(X_train, y_train,\n",
        "          batch_size=BATCH_SIZE,\n",
        "          epochs=EPOCHS,\n",
        "          verbose=1,\n",
        "          validation_data=(X_test, y_test))\n",
        "\n",
        "score = model.evaluate(X_test, y_test, verbose=0)\n",
        "print('Test loss:', score[0])\n",
        "print('Test accuracy:', score[1])"
      ],
      "execution_count": 0,
      "outputs": [
        {
          "output_type": "stream",
          "text": [
            "Train on 60000 samples, validate on 10000 samples\n",
            "Epoch 1/10\n",
            "60000/60000 [==============================] - 2s 36us/step - loss: 14.2959 - acc: 0.1124 - val_loss: 14.2887 - val_acc: 0.1135\n",
            "Epoch 2/10\n",
            "60000/60000 [==============================] - 2s 27us/step - loss: 14.3070 - acc: 0.1124 - val_loss: 14.2887 - val_acc: 0.1135\n",
            "Epoch 3/10\n",
            "60000/60000 [==============================] - 2s 27us/step - loss: 14.3070 - acc: 0.1124 - val_loss: 14.2887 - val_acc: 0.1135\n",
            "Epoch 4/10\n",
            "60000/60000 [==============================] - 2s 28us/step - loss: 14.3070 - acc: 0.1124 - val_loss: 14.2887 - val_acc: 0.1135\n",
            "Epoch 5/10\n",
            "60000/60000 [==============================] - 2s 27us/step - loss: 14.3070 - acc: 0.1124 - val_loss: 14.2887 - val_acc: 0.1135\n",
            "Epoch 6/10\n",
            "60000/60000 [==============================] - 2s 28us/step - loss: 14.3070 - acc: 0.1124 - val_loss: 14.2887 - val_acc: 0.1135\n",
            "Epoch 7/10\n",
            "60000/60000 [==============================] - 2s 28us/step - loss: 14.3070 - acc: 0.1124 - val_loss: 14.2887 - val_acc: 0.1135\n",
            "Epoch 8/10\n",
            "60000/60000 [==============================] - 2s 29us/step - loss: 14.3070 - acc: 0.1124 - val_loss: 14.2887 - val_acc: 0.1135\n",
            "Epoch 9/10\n",
            "60000/60000 [==============================] - 2s 29us/step - loss: 14.3070 - acc: 0.1124 - val_loss: 14.2887 - val_acc: 0.1135\n",
            "Epoch 10/10\n",
            "60000/60000 [==============================] - 2s 28us/step - loss: 14.3070 - acc: 0.1124 - val_loss: 14.2887 - val_acc: 0.1135\n",
            "Test loss: 14.288691453552246\n",
            "Test accuracy: 0.1135\n"
          ],
          "name": "stdout"
        }
      ]
    },
    {
      "cell_type": "markdown",
      "metadata": {
        "id": "twHrIcibMfqj",
        "colab_type": "text"
      },
      "source": [
        "#linear\n",
        "\n",
        "keras.activations.linear(x)\n",
        "\n",
        "Linear (i.e. identity) activation function.\n",
        "\n",
        "##Arguments\n",
        "\n",
        "1. x: Input tensor.\n",
        "\n",
        "##Returns\n",
        "\n",
        "Input tensor, unchanged."
      ]
    },
    {
      "cell_type": "code",
      "metadata": {
        "id": "X4yIoO3RMk-n",
        "colab_type": "code",
        "outputId": "8921c123-46b3-4c47-a907-41f74bc0d583",
        "colab": {
          "base_uri": "https://localhost:8080/",
          "height": 426
        }
      },
      "source": [
        "# Build neural network\n",
        "model = models.Sequential()\n",
        "model.add(Dense(512, activation='linear', input_shape=(NUM_ROWS * NUM_COLS,)))\n",
        "model.add(Dense(256, activation='linear'))\n",
        "model.add(Dense(10, activation='softmax'))\n",
        "\n",
        "# Compile model\n",
        "model.compile(optimizer='rmsprop',\n",
        "              loss='categorical_crossentropy',\n",
        "              metrics=['accuracy'])\n",
        "\n",
        "# Train model\n",
        "model.fit(X_train, y_train,\n",
        "          batch_size=BATCH_SIZE,\n",
        "          epochs=EPOCHS,\n",
        "          verbose=1,\n",
        "          validation_data=(X_test, y_test))\n",
        "\n",
        "score = model.evaluate(X_test, y_test, verbose=0)\n",
        "print('Test loss:', score[0])\n",
        "print('Test accuracy:', score[1])"
      ],
      "execution_count": 0,
      "outputs": [
        {
          "output_type": "stream",
          "text": [
            "Train on 60000 samples, validate on 10000 samples\n",
            "Epoch 1/10\n",
            "60000/60000 [==============================] - 2s 36us/step - loss: 0.4240 - acc: 0.8761 - val_loss: 0.3345 - val_acc: 0.9067\n",
            "Epoch 2/10\n",
            "60000/60000 [==============================] - 2s 27us/step - loss: 0.3419 - acc: 0.9026 - val_loss: 0.3216 - val_acc: 0.9113\n",
            "Epoch 3/10\n",
            "60000/60000 [==============================] - 2s 27us/step - loss: 0.3227 - acc: 0.9084 - val_loss: 0.3042 - val_acc: 0.9150\n",
            "Epoch 4/10\n",
            "60000/60000 [==============================] - 2s 28us/step - loss: 0.3096 - acc: 0.9143 - val_loss: 0.2972 - val_acc: 0.9172\n",
            "Epoch 5/10\n",
            "60000/60000 [==============================] - 2s 28us/step - loss: 0.3018 - acc: 0.9159 - val_loss: 0.3061 - val_acc: 0.9156\n",
            "Epoch 6/10\n",
            "60000/60000 [==============================] - 2s 27us/step - loss: 0.2942 - acc: 0.9175 - val_loss: 0.3170 - val_acc: 0.9110\n",
            "Epoch 7/10\n",
            "60000/60000 [==============================] - 2s 28us/step - loss: 0.2885 - acc: 0.9186 - val_loss: 0.2942 - val_acc: 0.9174\n",
            "Epoch 8/10\n",
            "60000/60000 [==============================] - 2s 28us/step - loss: 0.2852 - acc: 0.9197 - val_loss: 0.3002 - val_acc: 0.9177\n",
            "Epoch 9/10\n",
            "60000/60000 [==============================] - 2s 28us/step - loss: 0.2818 - acc: 0.9211 - val_loss: 0.2946 - val_acc: 0.9199\n",
            "Epoch 10/10\n",
            "60000/60000 [==============================] - 2s 30us/step - loss: 0.2800 - acc: 0.9221 - val_loss: 0.3165 - val_acc: 0.9165\n",
            "Test loss: 0.3165448214173317\n",
            "Test accuracy: 0.9165\n"
          ],
          "name": "stdout"
        }
      ]
    },
    {
      "cell_type": "markdown",
      "metadata": {
        "id": "1OyPjtogMtdG",
        "colab_type": "text"
      },
      "source": [
        "#LeakyReLU\n",
        "\n",
        "keras.layers.LeakyReLU(alpha=0.3)\n",
        "\n",
        "Leaky version of a Rectified Linear Unit.\n",
        "\n",
        "It allows a small gradient when the unit is not active: \n",
        "```\n",
        "f(x) = alpha * x for x < 0\n",
        "f(x) = x for x >= 0.\n",
        "```\n",
        "\n",
        "##Input shape\n",
        "\n",
        "Arbitrary. Use the keyword argument input_shape (tuple of integers, does not include the samples axis) when using this layer as the first layer in a model.\n",
        "\n",
        "##Output shape\n",
        "\n",
        "Same shape as the input.\n",
        "\n",
        "##Arguments\n",
        "\n",
        "alpha: float >= 0. Negative slope coefficient."
      ]
    },
    {
      "cell_type": "code",
      "metadata": {
        "id": "erjq0UrxNRum",
        "colab_type": "code",
        "outputId": "fea3c724-1bae-4a21-e182-2ea1ad4daafa",
        "colab": {
          "base_uri": "https://localhost:8080/",
          "height": 481
        }
      },
      "source": [
        "# Build neural network\n",
        "model = models.Sequential()\n",
        "model.add(Dense(512, activation=keras.layers.LeakyReLU(alpha=0.3), input_shape=(NUM_ROWS * NUM_COLS,)))\n",
        "model.add(Dense(256, activation=keras.layers.LeakyReLU(alpha=0.3)))\n",
        "model.add(Dense(10, activation='softmax'))\n",
        "\n",
        "# Compile model\n",
        "model.compile(optimizer='rmsprop',\n",
        "              loss='categorical_crossentropy',\n",
        "              metrics=['accuracy'])\n",
        "\n",
        "# Train model\n",
        "model.fit(X_train, y_train,\n",
        "          batch_size=BATCH_SIZE,\n",
        "          epochs=EPOCHS,\n",
        "          verbose=1,\n",
        "          validation_data=(X_test, y_test))\n",
        "\n",
        "score = model.evaluate(X_test, y_test, verbose=0)\n",
        "print('Test loss:', score[0])\n",
        "print('Test accuracy:', score[1])"
      ],
      "execution_count": 0,
      "outputs": [
        {
          "output_type": "stream",
          "text": [
            "/usr/local/lib/python3.6/dist-packages/keras/activations.py:235: UserWarning: Do not pass a layer instance (such as LeakyReLU) as the activation argument of another layer. Instead, advanced activation layers should be used just like any other layer in a model.\n",
            "  identifier=identifier.__class__.__name__))\n"
          ],
          "name": "stderr"
        },
        {
          "output_type": "stream",
          "text": [
            "Train on 60000 samples, validate on 10000 samples\n",
            "Epoch 1/10\n",
            "60000/60000 [==============================] - 2s 40us/step - loss: 0.2643 - acc: 0.9206 - val_loss: 0.1480 - val_acc: 0.9548\n",
            "Epoch 2/10\n",
            "60000/60000 [==============================] - 2s 28us/step - loss: 0.1249 - acc: 0.9621 - val_loss: 0.1301 - val_acc: 0.9574\n",
            "Epoch 3/10\n",
            "60000/60000 [==============================] - 2s 28us/step - loss: 0.0907 - acc: 0.9720 - val_loss: 0.0974 - val_acc: 0.9708\n",
            "Epoch 4/10\n",
            "60000/60000 [==============================] - 2s 28us/step - loss: 0.0741 - acc: 0.9763 - val_loss: 0.0862 - val_acc: 0.9736\n",
            "Epoch 5/10\n",
            "60000/60000 [==============================] - 2s 28us/step - loss: 0.0630 - acc: 0.9803 - val_loss: 0.1116 - val_acc: 0.9700\n",
            "Epoch 6/10\n",
            "60000/60000 [==============================] - 2s 30us/step - loss: 0.0540 - acc: 0.9826 - val_loss: 0.0947 - val_acc: 0.9726\n",
            "Epoch 7/10\n",
            "60000/60000 [==============================] - 2s 28us/step - loss: 0.0472 - acc: 0.9854 - val_loss: 0.0844 - val_acc: 0.9769\n",
            "Epoch 8/10\n",
            "60000/60000 [==============================] - 2s 28us/step - loss: 0.0433 - acc: 0.9862 - val_loss: 0.1006 - val_acc: 0.9739\n",
            "Epoch 9/10\n",
            "60000/60000 [==============================] - 2s 28us/step - loss: 0.0364 - acc: 0.9878 - val_loss: 0.0942 - val_acc: 0.9749\n",
            "Epoch 10/10\n",
            "60000/60000 [==============================] - 2s 29us/step - loss: 0.0346 - acc: 0.9891 - val_loss: 0.0790 - val_acc: 0.9797\n",
            "Test loss: 0.0790217422685142\n",
            "Test accuracy: 0.9797\n"
          ],
          "name": "stdout"
        }
      ]
    },
    {
      "cell_type": "markdown",
      "metadata": {
        "id": "wcJBHILnNv8k",
        "colab_type": "text"
      },
      "source": [
        "#PReLU\n",
        "\n",
        "keras.layers.PReLU(alpha_initializer='zeros', alpha_regularizer=None, alpha_constraint=None, shared_axes=None)\n",
        "\n",
        "Parametric Rectified Linear Unit.\n",
        "\n",
        "It follows: f(x) = alpha * x for x < 0, f(x) = x for x >= 0, where alpha is a learned array with the same shape as x.\n",
        "\n",
        "##Input shape\n",
        "\n",
        "Arbitrary. Use the keyword argument input_shape (tuple of integers, does not include the samples axis) when using this layer as the first layer in a model.\n",
        "\n",
        "##Output shape\n",
        "\n",
        "Same shape as the input.\n",
        "\n",
        "##Arguments\n",
        "\n",
        "1. alpha_initializer: initializer function for the weights.\n",
        "2. alpha_regularizer: regularizer for the weights.\n",
        "3. alpha_constraint: constraint for the weights.\n",
        "4. shared_axes: the axes along which to share learnable parameters for the activation function. For example, if the incoming feature maps are from a 2D convolution with output shape (batch, height, width, channels), and you wish to share parameters across space so that each filter only has one set of parameters, set shared_axes=[1, 2]."
      ]
    },
    {
      "cell_type": "code",
      "metadata": {
        "id": "9sMj5qFNN7Xv",
        "colab_type": "code",
        "outputId": "b1eeb955-e2a6-4886-84d3-95cbf3b7ef41",
        "colab": {
          "base_uri": "https://localhost:8080/",
          "height": 481
        }
      },
      "source": [
        "# Build neural network\n",
        "model = models.Sequential()\n",
        "model.add(Dense(512, activation=keras.layers.PReLU(alpha_initializer='zeros', alpha_regularizer=None, alpha_constraint=None, shared_axes=None)\n",
        ", input_shape=(NUM_ROWS * NUM_COLS,)))\n",
        "model.add(Dense(256, activation=keras.layers.PReLU(alpha_initializer='zeros', alpha_regularizer=None, alpha_constraint=None, shared_axes=None)\n",
        "))\n",
        "model.add(Dense(10, activation='softmax'))\n",
        "\n",
        "# Compile model\n",
        "model.compile(optimizer='rmsprop',\n",
        "              loss='categorical_crossentropy',\n",
        "              metrics=['accuracy'])\n",
        "\n",
        "# Train model\n",
        "model.fit(X_train, y_train,\n",
        "          batch_size=BATCH_SIZE,\n",
        "          epochs=EPOCHS,\n",
        "          verbose=1,\n",
        "          validation_data=(X_test, y_test))\n",
        "\n",
        "score = model.evaluate(X_test, y_test, verbose=0)\n",
        "print('Test loss:', score[0])\n",
        "print('Test accuracy:', score[1])"
      ],
      "execution_count": 0,
      "outputs": [
        {
          "output_type": "stream",
          "text": [
            "/usr/local/lib/python3.6/dist-packages/keras/activations.py:235: UserWarning: Do not pass a layer instance (such as PReLU) as the activation argument of another layer. Instead, advanced activation layers should be used just like any other layer in a model.\n",
            "  identifier=identifier.__class__.__name__))\n"
          ],
          "name": "stderr"
        },
        {
          "output_type": "stream",
          "text": [
            "Train on 60000 samples, validate on 10000 samples\n",
            "Epoch 1/10\n",
            "60000/60000 [==============================] - 2s 38us/step - loss: 0.2258 - acc: 0.9304 - val_loss: 0.1353 - val_acc: 0.9585\n",
            "Epoch 2/10\n",
            "60000/60000 [==============================] - 2s 30us/step - loss: 0.0831 - acc: 0.9744 - val_loss: 0.0873 - val_acc: 0.9724\n",
            "Epoch 3/10\n",
            "60000/60000 [==============================] - 2s 29us/step - loss: 0.0549 - acc: 0.9829 - val_loss: 0.0817 - val_acc: 0.9777\n",
            "Epoch 4/10\n",
            "60000/60000 [==============================] - 2s 29us/step - loss: 0.0400 - acc: 0.9875 - val_loss: 0.0732 - val_acc: 0.9804\n",
            "Epoch 5/10\n",
            "60000/60000 [==============================] - 2s 30us/step - loss: 0.0295 - acc: 0.9905 - val_loss: 0.0663 - val_acc: 0.9824\n",
            "Epoch 6/10\n",
            "60000/60000 [==============================] - 2s 29us/step - loss: 0.0230 - acc: 0.9928 - val_loss: 0.0687 - val_acc: 0.9826\n",
            "Epoch 7/10\n",
            "60000/60000 [==============================] - 2s 30us/step - loss: 0.0170 - acc: 0.9947 - val_loss: 0.0813 - val_acc: 0.9813\n",
            "Epoch 8/10\n",
            "60000/60000 [==============================] - 2s 29us/step - loss: 0.0145 - acc: 0.9956 - val_loss: 0.0874 - val_acc: 0.9819\n",
            "Epoch 9/10\n",
            "60000/60000 [==============================] - 2s 29us/step - loss: 0.0125 - acc: 0.9963 - val_loss: 0.1125 - val_acc: 0.9775\n",
            "Epoch 10/10\n",
            "60000/60000 [==============================] - 2s 30us/step - loss: 0.0093 - acc: 0.9970 - val_loss: 0.0991 - val_acc: 0.9812\n",
            "Test loss: 0.09913041679461894\n",
            "Test accuracy: 0.9812\n"
          ],
          "name": "stdout"
        }
      ]
    },
    {
      "cell_type": "markdown",
      "metadata": {
        "id": "5hZFbSZYOSCi",
        "colab_type": "text"
      },
      "source": [
        "#ELU\n",
        "\n",
        "keras.layers.ELU(alpha=1.0)\n",
        "\n",
        "Exponential Linear Unit.\n",
        "\n",
        "It follows: f(x) =  alpha * (exp(x) - 1.) for x < 0, f(x) = x for x >= 0.\n",
        "\n",
        "##Input shape\n",
        "\n",
        "Arbitrary. Use the keyword argument input_shape (tuple of integers, does not include the samples axis) when using this layer as the first layer in a model.\n",
        "\n",
        "##Output shape\n",
        "\n",
        "Same shape as the input.\n",
        "\n",
        "##Arguments\n",
        "\n",
        "1. alpha: scale for the negative factor."
      ]
    },
    {
      "cell_type": "code",
      "metadata": {
        "id": "rV_7KHrmOZEV",
        "colab_type": "code",
        "outputId": "c667fc34-8434-4ab5-f329-4189c2b5b25d",
        "colab": {
          "base_uri": "https://localhost:8080/",
          "height": 481
        }
      },
      "source": [
        "# Build neural network\n",
        "model = models.Sequential()\n",
        "model.add(Dense(512, activation=keras.layers.ELU(alpha=1.0), input_shape=(NUM_ROWS * NUM_COLS,)))\n",
        "model.add(Dense(256, activation=keras.layers.ELU(alpha=1.0)))\n",
        "model.add(Dense(10, activation='softmax'))\n",
        "\n",
        "# Compile model\n",
        "model.compile(optimizer='rmsprop',\n",
        "              loss='categorical_crossentropy',\n",
        "              metrics=['accuracy'])\n",
        "\n",
        "# Train model\n",
        "model.fit(X_train, y_train,\n",
        "          batch_size=BATCH_SIZE,\n",
        "          epochs=EPOCHS,\n",
        "          verbose=1,\n",
        "          validation_data=(X_test, y_test))\n",
        "\n",
        "score = model.evaluate(X_test, y_test, verbose=0)\n",
        "print('Test loss:', score[0])\n",
        "print('Test accuracy:', score[1])"
      ],
      "execution_count": 0,
      "outputs": [
        {
          "output_type": "stream",
          "text": [
            "/usr/local/lib/python3.6/dist-packages/keras/activations.py:235: UserWarning: Do not pass a layer instance (such as ELU) as the activation argument of another layer. Instead, advanced activation layers should be used just like any other layer in a model.\n",
            "  identifier=identifier.__class__.__name__))\n"
          ],
          "name": "stderr"
        },
        {
          "output_type": "stream",
          "text": [
            "Train on 60000 samples, validate on 10000 samples\n",
            "Epoch 1/10\n",
            "60000/60000 [==============================] - 2s 40us/step - loss: 0.2904 - acc: 0.9116 - val_loss: 0.1378 - val_acc: 0.9572\n",
            "Epoch 2/10\n",
            "60000/60000 [==============================] - 2s 28us/step - loss: 0.1201 - acc: 0.9626 - val_loss: 0.1094 - val_acc: 0.9658\n",
            "Epoch 3/10\n",
            "60000/60000 [==============================] - 2s 28us/step - loss: 0.0828 - acc: 0.9740 - val_loss: 0.0857 - val_acc: 0.9729\n",
            "Epoch 4/10\n",
            "60000/60000 [==============================] - 2s 28us/step - loss: 0.0629 - acc: 0.9803 - val_loss: 0.0840 - val_acc: 0.9747\n",
            "Epoch 5/10\n",
            "60000/60000 [==============================] - 2s 30us/step - loss: 0.0499 - acc: 0.9840 - val_loss: 0.0849 - val_acc: 0.9734\n",
            "Epoch 6/10\n",
            "60000/60000 [==============================] - 2s 28us/step - loss: 0.0393 - acc: 0.9870 - val_loss: 0.0725 - val_acc: 0.9786\n",
            "Epoch 7/10\n",
            "60000/60000 [==============================] - 2s 27us/step - loss: 0.0331 - acc: 0.9890 - val_loss: 0.0807 - val_acc: 0.9786\n",
            "Epoch 8/10\n",
            "60000/60000 [==============================] - 2s 28us/step - loss: 0.0268 - acc: 0.9913 - val_loss: 0.0802 - val_acc: 0.9805\n",
            "Epoch 9/10\n",
            "60000/60000 [==============================] - 2s 29us/step - loss: 0.0234 - acc: 0.9921 - val_loss: 0.0900 - val_acc: 0.9771\n",
            "Epoch 10/10\n",
            "60000/60000 [==============================] - 2s 28us/step - loss: 0.0196 - acc: 0.9935 - val_loss: 0.0929 - val_acc: 0.9772\n",
            "Test loss: 0.09292477170386773\n",
            "Test accuracy: 0.9772\n"
          ],
          "name": "stdout"
        }
      ]
    },
    {
      "cell_type": "markdown",
      "metadata": {
        "id": "mMMit6nZOlXi",
        "colab_type": "text"
      },
      "source": [
        "#ThresholdedReLU\n",
        "\n",
        "keras.layers.ThresholdedReLU(theta=1.0)\n",
        "\n",
        "Thresholded Rectified Linear Unit.\n",
        "\n",
        "It follows: f(x) = x for x > theta, f(x) = 0 otherwise.\n",
        "\n",
        "##Input shape\n",
        "\n",
        "Arbitrary. Use the keyword argument input_shape (tuple of integers, does not include the samples axis) when using this layer as the first layer in a model.\n",
        "\n",
        "##Output shape\n",
        "\n",
        "Same shape as the input.\n",
        "\n",
        "##Arguments\n",
        "\n",
        "1. theta: float >= 0. Threshold location of activation."
      ]
    },
    {
      "cell_type": "code",
      "metadata": {
        "id": "jtN3bUOOOqN0",
        "colab_type": "code",
        "outputId": "407f76f7-1f21-444f-e009-7361943a0fba",
        "colab": {
          "base_uri": "https://localhost:8080/",
          "height": 481
        }
      },
      "source": [
        "# Build neural network\n",
        "model = models.Sequential()\n",
        "model.add(Dense(512, activation=keras.layers.ThresholdedReLU(theta=1.0), input_shape=(NUM_ROWS * NUM_COLS,)))\n",
        "model.add(Dense(256, activation=keras.layers.ThresholdedReLU(theta=1.0)))\n",
        "model.add(Dense(10, activation='softmax'))\n",
        "\n",
        "# Compile model\n",
        "model.compile(optimizer='rmsprop',\n",
        "              loss='categorical_crossentropy',\n",
        "              metrics=['accuracy'])\n",
        "\n",
        "# Train model\n",
        "model.fit(X_train, y_train,\n",
        "          batch_size=BATCH_SIZE,\n",
        "          epochs=EPOCHS,\n",
        "          verbose=1,\n",
        "          validation_data=(X_test, y_test))\n",
        "\n",
        "score = model.evaluate(X_test, y_test, verbose=0)\n",
        "print('Test loss:', score[0])\n",
        "print('Test accuracy:', score[1])"
      ],
      "execution_count": 0,
      "outputs": [
        {
          "output_type": "stream",
          "text": [
            "/usr/local/lib/python3.6/dist-packages/keras/activations.py:235: UserWarning: Do not pass a layer instance (such as ThresholdedReLU) as the activation argument of another layer. Instead, advanced activation layers should be used just like any other layer in a model.\n",
            "  identifier=identifier.__class__.__name__))\n"
          ],
          "name": "stderr"
        },
        {
          "output_type": "stream",
          "text": [
            "Train on 60000 samples, validate on 10000 samples\n",
            "Epoch 1/10\n",
            "60000/60000 [==============================] - 2s 40us/step - loss: 0.7102 - acc: 0.7577 - val_loss: 0.1905 - val_acc: 0.9403\n",
            "Epoch 2/10\n",
            "60000/60000 [==============================] - 2s 30us/step - loss: 0.1569 - acc: 0.9525 - val_loss: 0.1181 - val_acc: 0.9657\n",
            "Epoch 3/10\n",
            "60000/60000 [==============================] - 2s 29us/step - loss: 0.1021 - acc: 0.9685 - val_loss: 0.0963 - val_acc: 0.9700\n",
            "Epoch 4/10\n",
            "60000/60000 [==============================] - 2s 28us/step - loss: 0.0790 - acc: 0.9754 - val_loss: 0.0907 - val_acc: 0.9726\n",
            "Epoch 5/10\n",
            "60000/60000 [==============================] - 2s 28us/step - loss: 0.0614 - acc: 0.9810 - val_loss: 0.0838 - val_acc: 0.9746\n",
            "Epoch 6/10\n",
            "60000/60000 [==============================] - 2s 29us/step - loss: 0.0509 - acc: 0.9839 - val_loss: 0.0908 - val_acc: 0.9748\n",
            "Epoch 7/10\n",
            "60000/60000 [==============================] - 2s 29us/step - loss: 0.0410 - acc: 0.9877 - val_loss: 0.0845 - val_acc: 0.9762\n",
            "Epoch 8/10\n",
            "60000/60000 [==============================] - 2s 29us/step - loss: 0.0357 - acc: 0.9890 - val_loss: 0.0833 - val_acc: 0.9791\n",
            "Epoch 9/10\n",
            "60000/60000 [==============================] - 2s 30us/step - loss: 0.0306 - acc: 0.9904 - val_loss: 0.0912 - val_acc: 0.9754\n",
            "Epoch 10/10\n",
            "60000/60000 [==============================] - 2s 28us/step - loss: 0.0252 - acc: 0.9925 - val_loss: 0.0897 - val_acc: 0.9767\n",
            "Test loss: 0.08968437537708378\n",
            "Test accuracy: 0.9767\n"
          ],
          "name": "stdout"
        }
      ]
    },
    {
      "cell_type": "markdown",
      "metadata": {
        "id": "ZHf3ajyEOy7R",
        "colab_type": "text"
      },
      "source": [
        "#Softmax\n",
        "\n",
        "keras.layers.Softmax(axis=-1)\n",
        "\n",
        "Softmax activation function.\n",
        "\n",
        "##Input shape\n",
        "\n",
        "Arbitrary. Use the keyword argument input_shape (tuple of integers, does not include the samples axis) when using this layer as the first layer in a model.\n",
        "\n",
        "##Output shape\n",
        "\n",
        "Same shape as the input.\n",
        "\n",
        "##Arguments\n",
        "\n",
        "1. axis: Integer, axis along which the softmax normalization is applied."
      ]
    },
    {
      "cell_type": "code",
      "metadata": {
        "id": "mSzMbFfGO600",
        "colab_type": "code",
        "outputId": "431c4b2b-e786-4eaf-ece7-77161aafcc2b",
        "colab": {
          "base_uri": "https://localhost:8080/",
          "height": 481
        }
      },
      "source": [
        "# Build neural network\n",
        "model = models.Sequential()\n",
        "model.add(Dense(512, activation=keras.layers.Softmax(axis=-1), input_shape=(NUM_ROWS * NUM_COLS,)))\n",
        "model.add(Dense(256, activation=keras.layers.Softmax(axis=-1)))\n",
        "model.add(Dense(10, activation='softmax'))\n",
        "\n",
        "# Compile model\n",
        "model.compile(optimizer='rmsprop',\n",
        "              loss='categorical_crossentropy',\n",
        "              metrics=['accuracy'])\n",
        "\n",
        "# Train model\n",
        "model.fit(X_train, y_train,\n",
        "          batch_size=BATCH_SIZE,\n",
        "          epochs=EPOCHS,\n",
        "          verbose=1,\n",
        "          validation_data=(X_test, y_test))\n",
        "\n",
        "score = model.evaluate(X_test, y_test, verbose=0)\n",
        "print('Test loss:', score[0])\n",
        "print('Test accuracy:', score[1])"
      ],
      "execution_count": 0,
      "outputs": [
        {
          "output_type": "stream",
          "text": [
            "/usr/local/lib/python3.6/dist-packages/keras/activations.py:235: UserWarning: Do not pass a layer instance (such as Softmax) as the activation argument of another layer. Instead, advanced activation layers should be used just like any other layer in a model.\n",
            "  identifier=identifier.__class__.__name__))\n"
          ],
          "name": "stderr"
        },
        {
          "output_type": "stream",
          "text": [
            "Train on 60000 samples, validate on 10000 samples\n",
            "Epoch 1/10\n",
            "60000/60000 [==============================] - 2s 41us/step - loss: 2.2701 - acc: 0.1997 - val_loss: 2.1994 - val_acc: 0.6527\n",
            "Epoch 2/10\n",
            "60000/60000 [==============================] - 2s 30us/step - loss: 2.0482 - acc: 0.6929 - val_loss: 1.8620 - val_acc: 0.7448\n",
            "Epoch 3/10\n",
            "60000/60000 [==============================] - 2s 30us/step - loss: 1.6504 - acc: 0.7530 - val_loss: 1.4291 - val_acc: 0.7586\n",
            "Epoch 4/10\n",
            "60000/60000 [==============================] - 2s 29us/step - loss: 1.2360 - acc: 0.7616 - val_loss: 1.0498 - val_acc: 0.7611\n",
            "Epoch 5/10\n",
            "60000/60000 [==============================] - 2s 30us/step - loss: 0.9111 - acc: 0.7668 - val_loss: 0.7870 - val_acc: 0.7717\n",
            "Epoch 6/10\n",
            "60000/60000 [==============================] - 2s 29us/step - loss: 0.7078 - acc: 0.7757 - val_loss: 0.6420 - val_acc: 0.7767\n",
            "Epoch 7/10\n",
            "60000/60000 [==============================] - 2s 29us/step - loss: 0.5990 - acc: 0.7825 - val_loss: 0.5704 - val_acc: 0.7857\n",
            "Epoch 8/10\n",
            "60000/60000 [==============================] - 2s 30us/step - loss: 0.5468 - acc: 0.7897 - val_loss: 0.5365 - val_acc: 0.8038\n",
            "Epoch 9/10\n",
            "60000/60000 [==============================] - 2s 30us/step - loss: 0.5184 - acc: 0.8042 - val_loss: 0.5173 - val_acc: 0.7922\n",
            "Epoch 10/10\n",
            "60000/60000 [==============================] - 2s 30us/step - loss: 0.4958 - acc: 0.8146 - val_loss: 0.4991 - val_acc: 0.8085\n",
            "Test loss: 0.4991231698513031\n",
            "Test accuracy: 0.8085\n"
          ],
          "name": "stdout"
        }
      ]
    },
    {
      "cell_type": "markdown",
      "metadata": {
        "id": "oCbXH5M2PCwO",
        "colab_type": "text"
      },
      "source": [
        "#ReLU\n",
        "\n",
        "keras.layers.ReLU(max_value=None, negative_slope=0.0, threshold=0.0)\n",
        "\n",
        "Rectified Linear Unit activation function.\n",
        "\n",
        "With default values, it returns element-wise max(x, 0).\n",
        "\n",
        "Otherwise, it follows: f(x) = max_value for x >= max_value, f(x) = x for threshold <= x < max_value, f(x) = negative_slope * (x - threshold) otherwise.\n",
        "\n",
        "##Input shape\n",
        "\n",
        "Arbitrary. Use the keyword argument input_shape (tuple of integers, does not include the samples axis) when using this layer as the first layer in a model.\n",
        "\n",
        "##Output shape\n",
        "\n",
        "Same shape as the input.\n",
        "\n",
        "##Arguments\n",
        "\n",
        "1. max_value: float >= 0. Maximum activation value.\n",
        "2. negative_slope: float >= 0. Negative slope coefficient.\n",
        "3. threshold: float. Threshold value for thresholded activation."
      ]
    },
    {
      "cell_type": "code",
      "metadata": {
        "id": "KMee8FeqPK2N",
        "colab_type": "code",
        "outputId": "f0bd59f9-a7c3-44ed-c24d-f1f5982dd949",
        "colab": {
          "base_uri": "https://localhost:8080/",
          "height": 481
        }
      },
      "source": [
        "# Build neural network\n",
        "model = models.Sequential()\n",
        "model.add(Dense(512, activation=keras.layers.ReLU(max_value=None, negative_slope=0.0, threshold=0.0)\n",
        ", input_shape=(NUM_ROWS * NUM_COLS,)))\n",
        "model.add(Dense(256, activation=keras.layers.ReLU(max_value=None, negative_slope=0.0, threshold=0.0)\n",
        "))\n",
        "model.add(Dense(10, activation='softmax'))\n",
        "\n",
        "# Compile model\n",
        "model.compile(optimizer='rmsprop',\n",
        "              loss='categorical_crossentropy',\n",
        "              metrics=['accuracy'])\n",
        "\n",
        "# Train model\n",
        "model.fit(X_train, y_train,\n",
        "          batch_size=BATCH_SIZE,\n",
        "          epochs=EPOCHS,\n",
        "          verbose=1,\n",
        "          validation_data=(X_test, y_test))\n",
        "\n",
        "score = model.evaluate(X_test, y_test, verbose=0)\n",
        "print('Test loss:', score[0])\n",
        "print('Test accuracy:', score[1])"
      ],
      "execution_count": 0,
      "outputs": [
        {
          "output_type": "stream",
          "text": [
            "/usr/local/lib/python3.6/dist-packages/keras/activations.py:235: UserWarning: Do not pass a layer instance (such as ReLU) as the activation argument of another layer. Instead, advanced activation layers should be used just like any other layer in a model.\n",
            "  identifier=identifier.__class__.__name__))\n"
          ],
          "name": "stderr"
        },
        {
          "output_type": "stream",
          "text": [
            "Train on 60000 samples, validate on 10000 samples\n",
            "Epoch 1/10\n",
            "60000/60000 [==============================] - 2s 41us/step - loss: 0.2297 - acc: 0.9290 - val_loss: 0.1242 - val_acc: 0.9599\n",
            "Epoch 2/10\n",
            "60000/60000 [==============================] - 2s 29us/step - loss: 0.0837 - acc: 0.9744 - val_loss: 0.0755 - val_acc: 0.9767\n",
            "Epoch 3/10\n",
            "60000/60000 [==============================] - 2s 30us/step - loss: 0.0559 - acc: 0.9829 - val_loss: 0.0679 - val_acc: 0.9810\n",
            "Epoch 4/10\n",
            "60000/60000 [==============================] - 2s 29us/step - loss: 0.0389 - acc: 0.9875 - val_loss: 0.0835 - val_acc: 0.9754\n",
            "Epoch 5/10\n",
            "60000/60000 [==============================] - 2s 28us/step - loss: 0.0295 - acc: 0.9907 - val_loss: 0.0725 - val_acc: 0.9797\n",
            "Epoch 6/10\n",
            "60000/60000 [==============================] - 2s 29us/step - loss: 0.0224 - acc: 0.9931 - val_loss: 0.0802 - val_acc: 0.9808\n",
            "Epoch 7/10\n",
            "60000/60000 [==============================] - 2s 28us/step - loss: 0.0176 - acc: 0.9945 - val_loss: 0.0844 - val_acc: 0.9795\n",
            "Epoch 8/10\n",
            "60000/60000 [==============================] - 2s 29us/step - loss: 0.0143 - acc: 0.9951 - val_loss: 0.1005 - val_acc: 0.9801\n",
            "Epoch 9/10\n",
            "60000/60000 [==============================] - 2s 28us/step - loss: 0.0124 - acc: 0.9961 - val_loss: 0.1033 - val_acc: 0.9806\n",
            "Epoch 10/10\n",
            "60000/60000 [==============================] - 2s 28us/step - loss: 0.0094 - acc: 0.9970 - val_loss: 0.1025 - val_acc: 0.9819\n",
            "Test loss: 0.10251260316945059\n",
            "Test accuracy: 0.9819\n"
          ],
          "name": "stdout"
        }
      ]
    },
    {
      "cell_type": "markdown",
      "metadata": {
        "id": "Iw_XEgUlPU04",
        "colab_type": "text"
      },
      "source": [
        "#Thank you for completing this notebook"
      ]
    },
    {
      "cell_type": "markdown",
      "metadata": {
        "id": "UuuBSE9cVqC4",
        "colab_type": "text"
      },
      "source": [
        "ReLU is the best activation with maximum accuracy of 98.29% and loss 0.0920575719"
      ]
    },
    {
      "cell_type": "markdown",
      "metadata": {
        "id": "HSEcxw7cV4QD",
        "colab_type": "text"
      },
      "source": [
        "Fasion MNIST"
      ]
    },
    {
      "cell_type": "code",
      "metadata": {
        "id": "U3F8Zt4jV7SX",
        "colab_type": "code",
        "outputId": "04e5baa3-2d00-4966-c88c-b99bea0745d6",
        "colab": {
          "base_uri": "https://localhost:8080/",
          "height": 624
        }
      },
      "source": [
        "from keras import models\n",
        "from keras.layers import Dense, Dropout\n",
        "from keras.utils import to_categorical\n",
        "from keras.datasets import fashion_mnist\n",
        "from keras.utils.vis_utils import model_to_dot\n",
        "from IPython.display import SVG\n",
        "from keras.layers import Activation, Flatten, Conv2D\n",
        "\n",
        "NUM_ROWS = 28\n",
        "NUM_COLS = 28\n",
        "NUM_CLASSES = 10\n",
        "BATCH_SIZE = 128\n",
        "EPOCHS = 10\n",
        "\n",
        "# Load data\n",
        "(X_train, y_train), (X_test, y_test) = fashion_mnist.load_data()\n",
        "\n",
        "# Reshape data\n",
        "X_train = X_train.reshape((X_train.shape[0], 28, 28, 1))\n",
        "X_train = X_train.astype('float32') / 255\n",
        "X_test = X_test.reshape((X_test.shape[0], 28, 28, 1))\n",
        "X_test = X_test.astype('float32') / 255\n",
        "\n",
        "\n",
        "\n",
        "# Categorically encode labels\n",
        "y_train = to_categorical(y_train, NUM_CLASSES)\n",
        "y_test = to_categorical(y_test, NUM_CLASSES)\n",
        "\n",
        "# Build neural network\n",
        "model = models.Sequential()\n",
        "model.add(Conv2D(512, (28, 28), padding=\"valid\", activation=keras.layers.ReLU(max_value=None, negative_slope=0.0, threshold=0.0), input_shape=X_train.shape[1:]))\n",
        "model.add(Flatten())\n",
        "model.add(Dense(512, activation=keras.layers.ReLU(max_value=None, negative_slope=0.0, threshold=0.0)\n",
        ", input_shape=(NUM_ROWS * NUM_COLS,)))\n",
        "model.add(Dense(256, activation=keras.layers.ReLU(max_value=None, negative_slope=0.0, threshold=0.0)\n",
        "))\n",
        "model.add(Dense(10, activation='softmax'))\n",
        "\n",
        "# Compile model\n",
        "model.compile(optimizer='rmsprop',\n",
        "              loss='categorical_crossentropy',\n",
        "              metrics=['accuracy'])\n",
        "\n",
        "# Train model\n",
        "model.fit(X_train, y_train,\n",
        "          batch_size=BATCH_SIZE,\n",
        "          epochs=EPOCHS,\n",
        "          verbose=1,\n",
        "          validation_data=(X_test, y_test))\n",
        "\n",
        "score = model.evaluate(X_test, y_test, verbose=0)\n",
        "print('Test loss:', score[0])\n",
        "print('Test accuracy:', score[1])"
      ],
      "execution_count": 0,
      "outputs": [
        {
          "output_type": "stream",
          "text": [
            "Downloading data from http://fashion-mnist.s3-website.eu-central-1.amazonaws.com/train-labels-idx1-ubyte.gz\n",
            "32768/29515 [=================================] - 0s 4us/step\n",
            "Downloading data from http://fashion-mnist.s3-website.eu-central-1.amazonaws.com/train-images-idx3-ubyte.gz\n",
            "26427392/26421880 [==============================] - 2s 0us/step\n",
            "Downloading data from http://fashion-mnist.s3-website.eu-central-1.amazonaws.com/t10k-labels-idx1-ubyte.gz\n",
            "8192/5148 [===============================================] - 0s 0us/step\n",
            "Downloading data from http://fashion-mnist.s3-website.eu-central-1.amazonaws.com/t10k-images-idx3-ubyte.gz\n",
            "4423680/4422102 [==============================] - 1s 0us/step\n"
          ],
          "name": "stdout"
        },
        {
          "output_type": "stream",
          "text": [
            "/usr/local/lib/python3.6/dist-packages/keras/activations.py:235: UserWarning: Do not pass a layer instance (such as ReLU) as the activation argument of another layer. Instead, advanced activation layers should be used just like any other layer in a model.\n",
            "  identifier=identifier.__class__.__name__))\n"
          ],
          "name": "stderr"
        },
        {
          "output_type": "stream",
          "text": [
            "Train on 60000 samples, validate on 10000 samples\n",
            "Epoch 1/10\n",
            "60000/60000 [==============================] - 8s 126us/step - loss: 0.6029 - acc: 0.7744 - val_loss: 0.4781 - val_acc: 0.8241\n",
            "Epoch 2/10\n",
            "60000/60000 [==============================] - 2s 36us/step - loss: 0.3995 - acc: 0.8517 - val_loss: 0.4609 - val_acc: 0.8381\n",
            "Epoch 3/10\n",
            "60000/60000 [==============================] - 2s 35us/step - loss: 0.3539 - acc: 0.8689 - val_loss: 0.4472 - val_acc: 0.8340\n",
            "Epoch 4/10\n",
            "60000/60000 [==============================] - 2s 37us/step - loss: 0.3288 - acc: 0.8777 - val_loss: 0.3677 - val_acc: 0.8739\n",
            "Epoch 5/10\n",
            "60000/60000 [==============================] - 2s 35us/step - loss: 0.3103 - acc: 0.8854 - val_loss: 0.4043 - val_acc: 0.8761\n",
            "Epoch 6/10\n",
            "60000/60000 [==============================] - 2s 35us/step - loss: 0.2970 - acc: 0.8911 - val_loss: 0.3607 - val_acc: 0.8806\n",
            "Epoch 7/10\n",
            "60000/60000 [==============================] - 2s 35us/step - loss: 0.2860 - acc: 0.8947 - val_loss: 0.3825 - val_acc: 0.8718\n",
            "Epoch 8/10\n",
            "60000/60000 [==============================] - 2s 35us/step - loss: 0.2773 - acc: 0.8972 - val_loss: 0.3628 - val_acc: 0.8794\n",
            "Epoch 9/10\n",
            "60000/60000 [==============================] - 2s 36us/step - loss: 0.2745 - acc: 0.8999 - val_loss: 0.4009 - val_acc: 0.8753\n",
            "Epoch 10/10\n",
            "60000/60000 [==============================] - 2s 34us/step - loss: 0.2668 - acc: 0.9033 - val_loss: 0.4047 - val_acc: 0.8747\n",
            "Test loss: 0.4047216660141945\n",
            "Test accuracy: 0.8747\n"
          ],
          "name": "stdout"
        }
      ]
    },
    {
      "cell_type": "markdown",
      "metadata": {
        "id": "M0sWHm_uWN8X",
        "colab_type": "text"
      },
      "source": [
        "CIFAR10"
      ]
    },
    {
      "cell_type": "code",
      "metadata": {
        "id": "_x2DUWyuV7Yt",
        "colab_type": "code",
        "outputId": "356fd381-0e82-4fa3-d089-1621428d59fc",
        "colab": {
          "base_uri": "https://localhost:8080/",
          "height": 517
        }
      },
      "source": [
        "from keras.datasets import cifar10\n",
        "(X_train, y_train), (X_test, y_test) = cifar10.load_data()\n",
        "\n",
        "#change shape from image to vector\n",
        "X_train = X_train.reshape(50000,32,32,3)\n",
        "X_test = X_test.reshape(10000,32,32,3)\n",
        "\n",
        "#preprocess\n",
        "X_train = X_train.astype('float32')\n",
        "X_test = X_test.astype('float32')\n",
        "X_train /= 255.0\n",
        "X_test /= 255.0\n",
        "\n",
        "#change labels from numeric to one hot encoded\n",
        "Y_train = to_categorical(y_train, 10)\n",
        "Y_test =  to_categorical(y_test, 10)\n",
        "\n",
        "adamax=keras.optimizers.Adamax(lr=0.002, beta_1=0.9, beta_2=0.999)\n",
        "\n",
        "\n",
        "# Build neural network\n",
        "model = models.Sequential()\n",
        "model.add(Conv2D(1024, (32, 32), padding=\"valid\", activation=keras.layers.ReLU(max_value=None, negative_slope=0.0, threshold=0.0), input_shape=X_train.shape[1:]))\n",
        "model.add(Flatten())\n",
        "model.add(Dense(512, activation=keras.layers.ReLU(max_value=None, negative_slope=0.0, threshold=0.0)\n",
        ", input_shape=(32 * 32,)))\n",
        "model.add(Dense(256, activation=keras.layers.ReLU(max_value=None, negative_slope=0.0, threshold=0.0)\n",
        "))\n",
        "model.add(Dense(10, activation='softmax'))\n",
        "\n",
        "# Compile model\n",
        "model.compile(optimizer='adamax',\n",
        "              loss='categorical_crossentropy',\n",
        "              metrics=['accuracy'])\n",
        "\n",
        "# Train model\n",
        "model.fit(X_train, Y_train,\n",
        "          batch_size=128,\n",
        "          epochs=10,\n",
        "          verbose=1,\n",
        "          validation_data=(X_test, Y_test))\n",
        "score = model.evaluate(X_test, Y_test, verbose=0)\n",
        "print('Test loss:', score[0])\n",
        "print('Test accuracy:', score[1])"
      ],
      "execution_count": 0,
      "outputs": [
        {
          "output_type": "stream",
          "text": [
            "Downloading data from https://www.cs.toronto.edu/~kriz/cifar-10-python.tar.gz\n",
            "170500096/170498071 [==============================] - 4s 0us/step\n"
          ],
          "name": "stdout"
        },
        {
          "output_type": "stream",
          "text": [
            "/usr/local/lib/python3.6/dist-packages/keras/activations.py:235: UserWarning: Do not pass a layer instance (such as ReLU) as the activation argument of another layer. Instead, advanced activation layers should be used just like any other layer in a model.\n",
            "  identifier=identifier.__class__.__name__))\n"
          ],
          "name": "stderr"
        },
        {
          "output_type": "stream",
          "text": [
            "Train on 50000 samples, validate on 10000 samples\n",
            "Epoch 1/10\n",
            "50000/50000 [==============================] - 6s 112us/step - loss: 2.0332 - acc: 0.2947 - val_loss: 1.8095 - val_acc: 0.3351\n",
            "Epoch 2/10\n",
            "50000/50000 [==============================] - 5s 90us/step - loss: 1.7195 - acc: 0.3828 - val_loss: 1.7096 - val_acc: 0.3905\n",
            "Epoch 3/10\n",
            "50000/50000 [==============================] - 4s 88us/step - loss: 1.6246 - acc: 0.4199 - val_loss: 1.5651 - val_acc: 0.4496\n",
            "Epoch 4/10\n",
            "50000/50000 [==============================] - 4s 86us/step - loss: 1.5552 - acc: 0.4443 - val_loss: 1.5494 - val_acc: 0.4415\n",
            "Epoch 5/10\n",
            "50000/50000 [==============================] - 4s 86us/step - loss: 1.5014 - acc: 0.4639 - val_loss: 1.5009 - val_acc: 0.4701\n",
            "Epoch 6/10\n",
            "50000/50000 [==============================] - 4s 87us/step - loss: 1.4523 - acc: 0.4808 - val_loss: 1.5086 - val_acc: 0.4610\n",
            "Epoch 7/10\n",
            "50000/50000 [==============================] - 4s 89us/step - loss: 1.4215 - acc: 0.4930 - val_loss: 1.4738 - val_acc: 0.4664\n",
            "Epoch 8/10\n",
            "50000/50000 [==============================] - 4s 86us/step - loss: 1.3848 - acc: 0.5052 - val_loss: 1.4212 - val_acc: 0.4919\n",
            "Epoch 9/10\n",
            "50000/50000 [==============================] - 4s 88us/step - loss: 1.3470 - acc: 0.5201 - val_loss: 1.4275 - val_acc: 0.4966\n",
            "Epoch 10/10\n",
            "50000/50000 [==============================] - 4s 87us/step - loss: 1.3092 - acc: 0.5320 - val_loss: 1.3604 - val_acc: 0.5174\n",
            "Test loss: 1.3603952417373657\n",
            "Test accuracy: 0.5174\n"
          ],
          "name": "stdout"
        }
      ]
    },
    {
      "cell_type": "markdown",
      "metadata": {
        "id": "28VQlRjkWr8n",
        "colab_type": "text"
      },
      "source": [
        "CIFAR 100"
      ]
    },
    {
      "cell_type": "code",
      "metadata": {
        "id": "WZg2wK6vWrMO",
        "colab_type": "code",
        "outputId": "c04d617c-342b-4848-bef1-ee724035cd44",
        "colab": {
          "base_uri": "https://localhost:8080/",
          "height": 517
        }
      },
      "source": [
        "import keras\n",
        "from keras import models\n",
        "from keras.layers import Dense, Dropout, Conv2D,Flatten\n",
        "from keras.utils import to_categorical\n",
        "from keras.datasets import cifar100\n",
        "from keras.utils.vis_utils import model_to_dot\n",
        "from IPython.display import SVG\n",
        "from keras.preprocessing.image import ImageDataGenerator\n",
        "from keras import optimizers\n",
        "\n",
        "#import dataset\n",
        "(X_train, y_train), (X_test, y_test) = cifar100.load_data()\n",
        "\n",
        "#change shape from image to vector\n",
        "X_train = X_train.reshape(50000,32,32,3)\n",
        "X_test = X_test.reshape(10000,32,32,3)\n",
        "\n",
        "#preprocess\n",
        "X_train = X_train.astype('float32')\n",
        "X_test = X_test.astype('float32')\n",
        "X_train /= 255.0\n",
        "X_test /= 255.0\n",
        "\n",
        "#change labels from numeric to one hot encoded\n",
        "Y_train = to_categorical(y_train, 100)\n",
        "Y_test =  to_categorical(y_test, 100)\n",
        "model = models.Sequential()\n",
        "model.add(Conv2D(1024, (32, 32), padding=\"valid\", activation=keras.layers.ReLU(max_value=None, negative_slope=0.0, threshold=0.0), input_shape=X_train.shape[1:]))\n",
        "model.add(Flatten())\n",
        "model.add(Dense(512, activation=keras.layers.ReLU(max_value=None, negative_slope=0.0, threshold=0.0)\n",
        ", input_shape=(32 * 32,)))\n",
        "model.add(Dense(256, activation=keras.layers.ReLU(max_value=None, negative_slope=0.0, threshold=0.0)\n",
        "))\n",
        "model.add(Dense(100, activation='softmax'))\n",
        "\n",
        "# Compile model\n",
        "model.compile(optimizer='adamax',\n",
        "              loss='categorical_crossentropy',\n",
        "              metrics=['accuracy'])\n",
        "\n",
        "# Train model\n",
        "model.fit(X_train, Y_train,\n",
        "          batch_size=128,\n",
        "          epochs=10,\n",
        "          verbose=1,\n",
        "          validation_data=(X_test, Y_test))\n",
        "score = model.evaluate(X_test, Y_test, verbose=0)\n",
        "print('Test loss:', score[0])\n",
        "print('Test accuracy:', score[1])"
      ],
      "execution_count": 0,
      "outputs": [
        {
          "output_type": "stream",
          "text": [
            "Downloading data from https://www.cs.toronto.edu/~kriz/cifar-100-python.tar.gz\n",
            "169009152/169001437 [==============================] - 4s 0us/step\n"
          ],
          "name": "stdout"
        },
        {
          "output_type": "stream",
          "text": [
            "/usr/local/lib/python3.6/dist-packages/keras/activations.py:235: UserWarning: Do not pass a layer instance (such as ReLU) as the activation argument of another layer. Instead, advanced activation layers should be used just like any other layer in a model.\n",
            "  identifier=identifier.__class__.__name__))\n"
          ],
          "name": "stderr"
        },
        {
          "output_type": "stream",
          "text": [
            "Train on 50000 samples, validate on 10000 samples\n",
            "Epoch 1/10\n",
            "50000/50000 [==============================] - 5s 109us/step - loss: 4.1915 - acc: 0.0632 - val_loss: 3.9326 - val_acc: 0.0938\n",
            "Epoch 2/10\n",
            "50000/50000 [==============================] - 4s 87us/step - loss: 3.7680 - acc: 0.1253 - val_loss: 3.6825 - val_acc: 0.1453\n",
            "Epoch 3/10\n",
            "50000/50000 [==============================] - 4s 87us/step - loss: 3.5787 - acc: 0.1563 - val_loss: 3.5435 - val_acc: 0.1714\n",
            "Epoch 4/10\n",
            "50000/50000 [==============================] - 4s 89us/step - loss: 3.4427 - acc: 0.1821 - val_loss: 3.4779 - val_acc: 0.1772\n",
            "Epoch 5/10\n",
            "50000/50000 [==============================] - 4s 87us/step - loss: 3.3380 - acc: 0.2006 - val_loss: 3.3978 - val_acc: 0.1972\n",
            "Epoch 6/10\n",
            "50000/50000 [==============================] - 4s 87us/step - loss: 3.2464 - acc: 0.2167 - val_loss: 3.3711 - val_acc: 0.2036\n",
            "Epoch 7/10\n",
            "50000/50000 [==============================] - 4s 86us/step - loss: 3.1596 - acc: 0.2301 - val_loss: 3.3020 - val_acc: 0.2131\n",
            "Epoch 8/10\n",
            "50000/50000 [==============================] - 4s 89us/step - loss: 3.0864 - acc: 0.2467 - val_loss: 3.2480 - val_acc: 0.2251\n",
            "Epoch 9/10\n",
            "50000/50000 [==============================] - 4s 88us/step - loss: 3.0103 - acc: 0.2595 - val_loss: 3.2730 - val_acc: 0.2198\n",
            "Epoch 10/10\n",
            "50000/50000 [==============================] - 4s 85us/step - loss: 2.9412 - acc: 0.2709 - val_loss: 3.2549 - val_acc: 0.2258\n",
            "Test loss: 3.2548674797058106\n",
            "Test accuracy: 0.2258\n"
          ],
          "name": "stdout"
        }
      ]
    }
  ]
}